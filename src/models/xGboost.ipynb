{
  "nbformat": 4,
  "nbformat_minor": 0,
  "metadata": {
    "colab": {
      "name": "xGboost.ipynb",
      "provenance": [],
      "collapsed_sections": [],
      "include_colab_link": true
    },
    "kernelspec": {
      "name": "python3",
      "display_name": "Python 3"
    },
    "language_info": {
      "name": "python"
    }
  },
  "cells": [
    {
      "cell_type": "markdown",
      "metadata": {
        "id": "view-in-github",
        "colab_type": "text"
      },
      "source": [
        "<a href=\"https://colab.research.google.com/github/DasithEdirisinghe/DSAXGB/blob/main/src/models/xGboost.ipynb\" target=\"_parent\"><img src=\"https://colab.research.google.com/assets/colab-badge.svg\" alt=\"Open In Colab\"/></a>"
      ]
    },
    {
      "cell_type": "code",
      "metadata": {
        "id": "04u-7OB-VYFs"
      },
      "source": [
        "import pandas as pd\n",
        "import numpy as np\n",
        "import matplotlib.pyplot as plt\n",
        "\n",
        "import io"
      ],
      "execution_count": 33,
      "outputs": []
    },
    {
      "cell_type": "code",
      "metadata": {
        "id": "FNG8IN25z_Tr",
        "colab": {
          "resources": {
            "http://localhost:8080/nbextensions/google.colab/files.js": {
              "data": "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",
              "ok": true,
              "headers": [
                [
                  "content-type",
                  "application/javascript"
                ]
              ],
              "status": 200,
              "status_text": ""
            }
          },
          "base_uri": "https://localhost:8080/",
          "height": 72
        },
        "outputId": "8cbee8e5-3154-4226-9c89-a1ed940d9c3f"
      },
      "source": [
        "from google.colab import files\n",
        "\n",
        "uploaded = files.upload()"
      ],
      "execution_count": 2,
      "outputs": [
        {
          "output_type": "display_data",
          "data": {
            "text/html": [
              "\n",
              "     <input type=\"file\" id=\"files-eb9d7f70-f213-4aed-86a6-1e9cfb717fd6\" name=\"files[]\" multiple disabled\n",
              "        style=\"border:none\" />\n",
              "     <output id=\"result-eb9d7f70-f213-4aed-86a6-1e9cfb717fd6\">\n",
              "      Upload widget is only available when the cell has been executed in the\n",
              "      current browser session. Please rerun this cell to enable.\n",
              "      </output>\n",
              "      <script src=\"/nbextensions/google.colab/files.js\"></script> "
            ],
            "text/plain": [
              "<IPython.core.display.HTML object>"
            ]
          },
          "metadata": {
            "tags": []
          }
        },
        {
          "output_type": "stream",
          "text": [
            "Saving CSE_DSIntro1_TRAIN.csv to CSE_DSIntro1_TRAIN.csv\n"
          ],
          "name": "stdout"
        }
      ]
    },
    {
      "cell_type": "code",
      "metadata": {
        "colab": {
          "base_uri": "https://localhost:8080/"
        },
        "id": "ax_vXdPY6_Ck",
        "outputId": "00b75013-2934-4c2a-e32a-19f70372323a"
      },
      "source": [
        "df = pd.read_csv (io.BytesIO(uploaded['CSE_DSIntro1_TRAIN.csv']))\n",
        "print(df)\n",
        "df.info()"
      ],
      "execution_count": 3,
      "outputs": [
        {
          "output_type": "stream",
          "text": [
            "        Id  Column_1     Column_2  ...  Column_76  Column_77  Category\n",
            "0        1   77041.5  44471.03389  ...          2       2021         0\n",
            "1        2   77120.0  44516.34682  ...          2       2021         0\n",
            "2        3   77120.0  44516.34682  ...          2       2021         0\n",
            "3        4   77117.5  44514.90373  ...          2       2021         0\n",
            "4        5   77120.0  44516.34682  ...          2       2021         0\n",
            "...    ...       ...          ...  ...        ...        ...       ...\n",
            "2495  2496   77117.5  44514.90373  ...          2       2021         1\n",
            "2496  2497   77120.0  44516.34682  ...          2       2021         1\n",
            "2497  2498   77117.5  44514.90373  ...          2       2021         1\n",
            "2498  2499   77117.5  44514.90373  ...          2       2021         0\n",
            "2499  2500   77120.0  44516.34682  ...          2       2021         0\n",
            "\n",
            "[2500 rows x 79 columns]\n",
            "<class 'pandas.core.frame.DataFrame'>\n",
            "RangeIndex: 2500 entries, 0 to 2499\n",
            "Data columns (total 79 columns):\n",
            " #   Column     Non-Null Count  Dtype  \n",
            "---  ------     --------------  -----  \n",
            " 0   Id         2500 non-null   int64  \n",
            " 1   Column_1   2500 non-null   float64\n",
            " 2   Column_2   2500 non-null   float64\n",
            " 3   Column_3   2500 non-null   float64\n",
            " 4   Column_4   2500 non-null   float64\n",
            " 5   Column_5   2500 non-null   float64\n",
            " 6   Column_6   2500 non-null   float64\n",
            " 7   Column_7   2500 non-null   float64\n",
            " 8   Column_8   2500 non-null   float64\n",
            " 9   Column_9   2500 non-null   float64\n",
            " 10  Column_10  2500 non-null   float64\n",
            " 11  Column_11  2500 non-null   float64\n",
            " 12  Column_12  2500 non-null   float64\n",
            " 13  Column_13  2500 non-null   float64\n",
            " 14  Column_14  2500 non-null   float64\n",
            " 15  Column_15  2500 non-null   float64\n",
            " 16  Column_16  2500 non-null   float64\n",
            " 17  Column_17  2500 non-null   float64\n",
            " 18  Column_18  2500 non-null   float64\n",
            " 19  Column_19  2500 non-null   float64\n",
            " 20  Column_20  2500 non-null   float64\n",
            " 21  Column_21  2500 non-null   float64\n",
            " 22  Column_22  2500 non-null   float64\n",
            " 23  Column_23  2500 non-null   float64\n",
            " 24  Column_24  2500 non-null   float64\n",
            " 25  Column_25  2500 non-null   float64\n",
            " 26  Column_26  2500 non-null   float64\n",
            " 27  Column_27  2500 non-null   float64\n",
            " 28  Column_28  2500 non-null   float64\n",
            " 29  Column_29  2500 non-null   float64\n",
            " 30  Column_30  2500 non-null   float64\n",
            " 31  Column_31  2500 non-null   float64\n",
            " 32  Column_32  2500 non-null   float64\n",
            " 33  Column_33  2500 non-null   float64\n",
            " 34  Column_34  2500 non-null   float64\n",
            " 35  Column_35  2500 non-null   float64\n",
            " 36  Column_36  2500 non-null   float64\n",
            " 37  Column_37  2500 non-null   float64\n",
            " 38  Column_38  2500 non-null   float64\n",
            " 39  Column_39  2500 non-null   float64\n",
            " 40  Column_40  2500 non-null   float64\n",
            " 41  Column_41  2500 non-null   float64\n",
            " 42  Column_42  2500 non-null   float64\n",
            " 43  Column_43  2500 non-null   float64\n",
            " 44  Column_44  2500 non-null   float64\n",
            " 45  Column_45  2500 non-null   float64\n",
            " 46  Column_46  2500 non-null   float64\n",
            " 47  Column_47  2500 non-null   float64\n",
            " 48  Column_48  2500 non-null   float64\n",
            " 49  Column_49  2500 non-null   float64\n",
            " 50  Column_50  2500 non-null   float64\n",
            " 51  Column_51  2500 non-null   float64\n",
            " 52  Column_52  2500 non-null   float64\n",
            " 53  Column_53  2500 non-null   float64\n",
            " 54  Column_54  2500 non-null   int64  \n",
            " 55  Column_55  2500 non-null   int64  \n",
            " 56  Column_56  2500 non-null   int64  \n",
            " 57  Column_57  2500 non-null   int64  \n",
            " 58  Column_58  2500 non-null   float64\n",
            " 59  Column_59  2500 non-null   float64\n",
            " 60  Column_60  2500 non-null   float64\n",
            " 61  Column_61  2500 non-null   float64\n",
            " 62  Column_62  2500 non-null   float64\n",
            " 63  Column_63  2500 non-null   float64\n",
            " 64  Column_64  2500 non-null   float64\n",
            " 65  Column_65  2500 non-null   float64\n",
            " 66  Column_66  2500 non-null   int64  \n",
            " 67  Column_67  2500 non-null   int64  \n",
            " 68  Column_68  2500 non-null   int64  \n",
            " 69  Column_69  2500 non-null   int64  \n",
            " 70  Column_70  2500 non-null   int64  \n",
            " 71  Column_71  2500 non-null   int64  \n",
            " 72  Column_72  2500 non-null   int64  \n",
            " 73  Column_73  2500 non-null   int64  \n",
            " 74  Column_74  2500 non-null   int64  \n",
            " 75  Column_75  2500 non-null   int64  \n",
            " 76  Column_76  2500 non-null   int64  \n",
            " 77  Column_77  2500 non-null   int64  \n",
            " 78  Category   2500 non-null   int64  \n",
            "dtypes: float64(61), int64(18)\n",
            "memory usage: 1.5 MB\n"
          ],
          "name": "stdout"
        }
      ]
    },
    {
      "cell_type": "code",
      "metadata": {
        "id": "92NyzCEp7WjB"
      },
      "source": [
        "from numpy import loadtxt\n",
        "from xgboost import XGBClassifier\n",
        "from sklearn.model_selection import train_test_split\n",
        "from sklearn.metrics import accuracy_score\n",
        "from sklearn.feature_selection import SelectFromModel\n",
        "from sklearn.model_selection import cross_val_score, KFold\n",
        "from hyperopt import STATUS_OK, Trials, fmin, hp, tpe"
      ],
      "execution_count": 234,
      "outputs": []
    },
    {
      "cell_type": "code",
      "metadata": {
        "id": "BshmwOzA8Bws",
        "colab": {
          "base_uri": "https://localhost:8080/"
        },
        "outputId": "0b67432d-1a52-4642-8c36-f5b41216ae0b"
      },
      "source": [
        "X= df[['Column_4',\n",
        "       'Column_6', 'Column_7', 'Column_8','Column_9', 'Column_10',\n",
        "       'Column_11','Column_12', 'Column_13', 'Column_14', 'Column_15', \n",
        "       'Column_16','Column_17', 'Column_18', 'Column_19', 'Column_20', \n",
        "       'Column_21','Column_22', 'Column_23', 'Column_24', 'Column_25',\n",
        "       'Column_26','Column_27', 'Column_28', 'Column_29', 'Column_30',\n",
        "       'Column_31','Column_32', 'Column_33', 'Column_34', 'Column_35',\n",
        "       'Column_36','Column_37', 'Column_38', 'Column_39', 'Column_40',\n",
        "       'Column_41','Column_42', 'Column_43', 'Column_44', 'Column_45',\n",
        "       'Column_46','Column_47', 'Column_48', 'Column_49', 'Column_50',\n",
        "       'Column_51','Column_52', 'Column_54', 'Column_58', 'Column_59', 'Column_60',\n",
        "       'Column_61','Column_62', 'Column_63', 'Column_64', 'Column_65',      \n",
        "       ]]\n",
        "\n",
        "Y= df['Category']\n",
        "print(X)\n",
        "print(Y)\n",
        "\n",
        "x_train, x_test, y_train, y_test =train_test_split(X,Y, test_size=0.1,random_state=50,shuffle=True)"
      ],
      "execution_count": 321,
      "outputs": [
        {
          "output_type": "stream",
          "text": [
            "       Column_4   Column_6   Column_7  ...  Column_63  Column_64  Column_65\n",
            "0     1602.4632  1571.6466  1294.2972  ...   1.527652   0.073507   1.511320\n",
            "1     1573.2480   987.1360   956.2880  ...   1.527373   0.073794   1.511169\n",
            "2     1789.1840  1665.7920  1326.4640  ...   1.527631   0.073571   1.511256\n",
            "3     1511.5030  1233.8800  1881.6670  ...   1.527550   0.073430   1.511489\n",
            "4     1974.2720   832.8960  1820.0320  ...   1.527490   0.073543   1.511393\n",
            "...         ...        ...        ...  ...        ...        ...        ...\n",
            "2495  1203.0330  1542.3500  1758.2790  ...   1.527730   0.073834   1.510860\n",
            "2496   894.5920  1079.6800  1480.7040  ...   1.527971   0.073253   1.511402\n",
            "2497  1789.1260  1326.4210  1418.9620  ...   1.527891   0.073301   1.511400\n",
            "2498  1789.1260  1511.5030  1357.2680  ...   1.527758   0.073542   1.511201\n",
            "2499  1542.4000  1850.8800  1511.5520  ...   1.527767   0.073461   1.511293\n",
            "\n",
            "[2500 rows x 57 columns]\n",
            "0       0\n",
            "1       0\n",
            "2       0\n",
            "3       0\n",
            "4       0\n",
            "       ..\n",
            "2495    1\n",
            "2496    1\n",
            "2497    1\n",
            "2498    0\n",
            "2499    0\n",
            "Name: Category, Length: 2500, dtype: int64\n"
          ],
          "name": "stdout"
        }
      ]
    },
    {
      "cell_type": "code",
      "metadata": {
        "colab": {
          "base_uri": "https://localhost:8080/"
        },
        "id": "zrJkjDVba74C",
        "outputId": "dc61f6f6-6c6b-43cd-b77e-7843b2f6a568"
      },
      "source": [
        "print(x_train)\n",
        "print(x_test)"
      ],
      "execution_count": 322,
      "outputs": [
        {
          "output_type": "stream",
          "text": [
            "       Column_4   Column_6   Column_7  ...  Column_63  Column_64  Column_65\n",
            "1407  1820.0851  2036.0274  1665.8406  ...   1.527508   0.073660   1.511235\n",
            "747   1511.5961  1604.1428  1850.9340  ...   1.528207   0.075196   1.508861\n",
            "2179  1511.5961  1634.9917   925.4670  ...   1.527730   0.073719   1.511002\n",
            "2479  1388.1150  1604.0440  1573.1970  ...   1.527574   0.074205   1.510516\n",
            "994   1789.1260   925.4100  2591.1480  ...   1.527923   0.073283   1.511400\n",
            "...         ...        ...        ...  ...        ...        ...        ...\n",
            "2014  1819.9730  1141.3390  1048.7980  ...   1.527881   0.072746   1.512094\n",
            "2157  1480.6560  1634.8910  1604.0440  ...   1.528059   0.073217   1.511384\n",
            "1931  1480.6560  1696.5850  1357.2680  ...   1.528084   0.072749   1.511941\n",
            "1504  1634.8910  1604.0440  2035.9020  ...   1.527243   0.074120   1.510860\n",
            "1712  2220.9840  1511.5030   555.2460  ...   1.527871   0.071484   1.513670\n",
            "\n",
            "[2250 rows x 57 columns]\n",
            "       Column_4   Column_6   Column_7  ...  Column_63  Column_64  Column_65\n",
            "2015  2066.7490  1110.4920  1388.1150  ...   1.527990   0.072643   1.512140\n",
            "1987  1480.7952  1449.9453   586.1481  ...   1.527881   0.072948   1.511843\n",
            "2245  2097.5960  1912.5140  2683.6890  ...   1.527734   0.073917   1.510755\n",
            "2452  1203.0720  1326.4640  1727.4880  ...   1.528005   0.073384   1.511217\n",
            "222    740.3736  1295.6538   185.0934  ...   1.527843   0.073062   1.511730\n",
            "...         ...        ...        ...  ...        ...        ...        ...\n",
            "309   1634.9917  1203.1071  1727.5384  ...   1.527415   0.073033   1.512080\n",
            "1436  1388.1600  2591.2320  1480.7040  ...   1.527188   0.073754   1.511353\n",
            "2155  1604.1428  1665.8406  1511.5961  ...   1.528051   0.073640   1.510869\n",
            "907   1326.4210  1727.4320   771.1750  ...   1.527607   0.073622   1.511210\n",
            "1549  1511.5961  1758.3873  1573.2939  ...   1.527486   0.072014   1.513298\n",
            "\n",
            "[250 rows x 57 columns]\n"
          ],
          "name": "stdout"
        }
      ]
    },
    {
      "cell_type": "code",
      "metadata": {
        "id": "WthgjhbV6EH4"
      },
      "source": [
        "space={'max_depth': hp.quniform(\"max_depth\", 3, 18, 1),\n",
        "        'gamma': hp.uniform ('gamma', 1,9),\n",
        "        'reg_alpha' : hp.quniform('reg_alpha', 40,180,1),\n",
        "        'reg_lambda' : hp.uniform('reg_lambda', 0,1),\n",
        "        'colsample_bytree' : hp.uniform('colsample_bytree', 0.5,1),\n",
        "        'subsample' : hp.uniform('subsample', 0.5,1),\n",
        "        'min_child_weight' : hp.quniform('min_child_weight', 0, 10, 1),\n",
        "        'n_estimators': 1000,\n",
        "        'seed': 0\n",
        "    }"
      ],
      "execution_count": 380,
      "outputs": []
    },
    {
      "cell_type": "code",
      "metadata": {
        "id": "pCJXLmOL6eCI"
      },
      "source": [
        "def objective(space):\n",
        "    clf=XGBClassifier(\n",
        "                    n_estimators =space['n_estimators'], max_depth = int(space['max_depth']), gamma = space['gamma'],\n",
        "                    reg_alpha = int(space['reg_alpha']),min_child_weight=int(space['min_child_weight']),\n",
        "                    colsample_bytree=int(space['colsample_bytree']),subsample=int(space['subsample']))\n",
        "    \n",
        "    evaluation = [( x_train, y_train), ( x_test, y_test)]\n",
        "    \n",
        "    clf.fit(x_train, y_train,\n",
        "            eval_set=evaluation, eval_metric=\"auc\",\n",
        "            early_stopping_rounds=50,verbose=False)\n",
        "    \n",
        "\n",
        "    pred = clf.predict(x_test)\n",
        "    accuracy = accuracy_score(y_test, pred>0.5)\n",
        "    print (\"SCORE:\", accuracy)\n",
        "    return {'loss': -accuracy, 'status': STATUS_OK }"
      ],
      "execution_count": 382,
      "outputs": []
    },
    {
      "cell_type": "code",
      "metadata": {
        "colab": {
          "base_uri": "https://localhost:8080/"
        },
        "id": "pNZ8PulT62mR",
        "outputId": "815280b1-18ea-41f2-97bb-66fb81802048"
      },
      "source": [
        "trials = Trials()\n",
        "\n",
        "best_hyperparams = fmin(fn = objective,\n",
        "                        space = space,\n",
        "                        algo = tpe.suggest,\n",
        "                        max_evals = 100,\n",
        "                        trials = trials)"
      ],
      "execution_count": 383,
      "outputs": [
        {
          "output_type": "stream",
          "text": [
            "SCORE:\n",
            "0.696\n",
            "SCORE:\n",
            "0.696\n",
            "SCORE:\n",
            "0.696\n",
            "SCORE:\n",
            "0.696\n",
            "SCORE:\n",
            "0.696\n",
            "SCORE:\n",
            "0.696\n",
            "SCORE:\n",
            "0.696\n",
            "SCORE:\n",
            "0.696\n",
            "SCORE:\n",
            "0.696\n",
            "SCORE:\n",
            "0.696\n",
            "SCORE:\n",
            "0.696\n",
            "SCORE:\n",
            "0.696\n",
            "SCORE:\n",
            "0.696\n",
            "SCORE:\n",
            "0.696\n",
            "SCORE:\n",
            "0.696\n",
            "SCORE:\n",
            "0.696\n",
            "SCORE:\n",
            "0.696\n",
            "SCORE:\n",
            "0.696\n",
            "SCORE:\n",
            "0.696\n",
            "SCORE:\n",
            "0.696\n",
            "SCORE:\n",
            "0.696\n",
            "SCORE:\n",
            "0.696\n",
            "SCORE:\n",
            "0.696\n",
            "SCORE:\n",
            "0.696\n",
            "SCORE:\n",
            "0.696\n",
            "SCORE:\n",
            "0.696\n",
            "SCORE:\n",
            "0.696\n",
            "SCORE:\n",
            "0.696\n",
            "SCORE:\n",
            "0.696\n",
            "SCORE:\n",
            "0.696\n",
            "SCORE:\n",
            "0.696\n",
            "SCORE:\n",
            "0.696\n",
            "SCORE:\n",
            "0.696\n",
            "SCORE:\n",
            "0.696\n",
            "SCORE:\n",
            "0.696\n",
            "SCORE:\n",
            "0.696\n",
            "SCORE:\n",
            "0.696\n",
            "SCORE:\n",
            "0.696\n",
            "SCORE:\n",
            "0.696\n",
            "SCORE:\n",
            "0.696\n",
            "SCORE:\n",
            "0.696\n",
            "SCORE:\n",
            "0.696\n",
            "SCORE:\n",
            "0.696\n",
            "SCORE:\n",
            "0.696\n",
            "SCORE:\n",
            "0.696\n",
            "SCORE:\n",
            "0.696\n",
            "SCORE:\n",
            "0.696\n",
            "SCORE:\n",
            "0.696\n",
            "SCORE:\n",
            "0.696\n",
            "SCORE:\n",
            "0.696\n",
            "SCORE:\n",
            "0.696\n",
            "SCORE:\n",
            "0.696\n",
            "SCORE:\n",
            "0.696\n",
            "SCORE:\n",
            "0.696\n",
            "SCORE:\n",
            "0.696\n",
            "SCORE:\n",
            "0.696\n",
            "SCORE:\n",
            "0.696\n",
            "SCORE:\n",
            "0.696\n",
            "SCORE:\n",
            "0.696\n",
            "SCORE:\n",
            "0.696\n",
            "SCORE:\n",
            "0.696\n",
            "SCORE:\n",
            "0.696\n",
            "SCORE:\n",
            "0.696\n",
            "SCORE:\n",
            "0.696\n",
            "SCORE:\n",
            "0.696\n",
            "SCORE:\n",
            "0.696\n",
            "SCORE:\n",
            "0.696\n",
            "SCORE:\n",
            "0.696\n",
            "SCORE:\n",
            "0.696\n",
            "SCORE:\n",
            "0.696\n",
            "SCORE:\n",
            "0.696\n",
            "SCORE:\n",
            "0.696\n",
            "SCORE:\n",
            "0.696\n",
            "SCORE:\n",
            "0.696\n",
            "SCORE:\n",
            "0.696\n",
            "SCORE:\n",
            "0.696\n",
            "SCORE:\n",
            "0.696\n",
            "SCORE:\n",
            "0.696\n",
            "SCORE:\n",
            "0.696\n",
            "SCORE:\n",
            "0.696\n",
            "SCORE:\n",
            "0.696\n",
            "SCORE:\n",
            "0.696\n",
            "SCORE:\n",
            "0.696\n",
            "SCORE:\n",
            "0.696\n",
            "SCORE:\n",
            "0.696\n",
            "SCORE:\n",
            "0.696\n",
            "SCORE:\n",
            "0.696\n",
            "SCORE:\n",
            "0.696\n",
            "SCORE:\n",
            "0.696\n",
            "SCORE:\n",
            "0.696\n",
            "SCORE:\n",
            "0.696\n",
            "SCORE:\n",
            "0.696\n",
            "SCORE:\n",
            "0.696\n",
            "SCORE:\n",
            "0.696\n",
            "SCORE:\n",
            "0.696\n",
            "SCORE:\n",
            "0.696\n",
            "SCORE:\n",
            "0.696\n",
            "SCORE:\n",
            "0.696\n",
            "SCORE:\n",
            "0.696\n",
            "SCORE:\n",
            "0.696\n",
            "100%|██████████| 100/100 [00:15<00:00,  6.38it/s, best loss: -0.696]\n"
          ],
          "name": "stdout"
        }
      ]
    },
    {
      "cell_type": "code",
      "metadata": {
        "colab": {
          "base_uri": "https://localhost:8080/"
        },
        "id": "HUKBoFn77TUs",
        "outputId": "9eb7a67f-d93c-4447-839a-5d49f2601afa"
      },
      "source": [
        "print(\"The best hyperparameters are : \",\"\\n\")\n",
        "print(best_hyperparams)"
      ],
      "execution_count": 384,
      "outputs": [
        {
          "output_type": "stream",
          "text": [
            "The best hyperparameters are :  \n",
            "\n",
            "{'colsample_bytree': 0.636032834470714, 'gamma': 2.0803313937276435, 'max_depth': 14.0, 'min_child_weight': 5.0, 'reg_alpha': 58.0, 'reg_lambda': 0.6487650706742315, 'subsample': 0.8590906807147036}\n"
          ],
          "name": "stdout"
        }
      ]
    },
    {
      "cell_type": "code",
      "metadata": {
        "colab": {
          "base_uri": "https://localhost:8080/",
          "height": 1000
        },
        "id": "84ew6UAJ8egP",
        "outputId": "dead0c09-b4ad-4df2-b041-ab0ad8297b47"
      },
      "source": [
        "model = XGBClassifier(max_depth=14, learning_rate=0.005, n_estimators=5000, gamma=2.5, \n",
        "                        min_child_weight=5, subsample=0.85, colsample_bytree=0.63, reg_alpha=18,reg_lambda=0.7)\n",
        "print(model)\n",
        "eval_set =  [(x_train, y_train), (x_test,y_test)]\n",
        "model.fit(x_train,y_train, early_stopping_rounds=100, eval_metric=\"logloss\", eval_set=eval_set, verbose= True)\n",
        "\n",
        "score = model.score(x_train,y_train)\n",
        "print(\"Training Score: \",score)\n",
        "results = model.evals_result()\n",
        "plt.plot(results['validation_0']['logloss'], label='train')\n",
        "plt.plot(results['validation_1']['logloss'], label='test')\n",
        "# show the legend\n",
        "plt.legend()\n",
        "# show the plot\n",
        "plt.show()"
      ],
      "execution_count": 387,
      "outputs": [
        {
          "output_type": "stream",
          "text": [
            "XGBClassifier(base_score=0.5, booster='gbtree', colsample_bylevel=1,\n",
            "              colsample_bynode=1, colsample_bytree=0.63, gamma=2.5,\n",
            "              learning_rate=0.005, max_delta_step=0, max_depth=14,\n",
            "              min_child_weight=5, missing=None, n_estimators=5000, n_jobs=1,\n",
            "              nthread=None, objective='binary:logistic', random_state=0,\n",
            "              reg_alpha=18, reg_lambda=0.7, scale_pos_weight=1, seed=None,\n",
            "              silent=None, subsample=0.85, verbosity=1)\n",
            "[0]\tvalidation_0-logloss:0.692304\tvalidation_1-logloss:0.69243\n",
            "Multiple eval metrics have been passed: 'validation_1-logloss' will be used for early stopping.\n",
            "\n",
            "Will train until validation_1-logloss hasn't improved in 100 rounds.\n",
            "[1]\tvalidation_0-logloss:0.691539\tvalidation_1-logloss:0.691577\n",
            "[2]\tvalidation_0-logloss:0.690736\tvalidation_1-logloss:0.690849\n",
            "[3]\tvalidation_0-logloss:0.68984\tvalidation_1-logloss:0.69001\n",
            "[4]\tvalidation_0-logloss:0.689008\tvalidation_1-logloss:0.689325\n",
            "[5]\tvalidation_0-logloss:0.688243\tvalidation_1-logloss:0.68869\n",
            "[6]\tvalidation_0-logloss:0.687481\tvalidation_1-logloss:0.688044\n",
            "[7]\tvalidation_0-logloss:0.686733\tvalidation_1-logloss:0.687327\n",
            "[8]\tvalidation_0-logloss:0.685865\tvalidation_1-logloss:0.686467\n",
            "[9]\tvalidation_0-logloss:0.685159\tvalidation_1-logloss:0.685782\n",
            "[10]\tvalidation_0-logloss:0.684426\tvalidation_1-logloss:0.685097\n",
            "[11]\tvalidation_0-logloss:0.683685\tvalidation_1-logloss:0.684362\n",
            "[12]\tvalidation_0-logloss:0.682857\tvalidation_1-logloss:0.683655\n",
            "[13]\tvalidation_0-logloss:0.682057\tvalidation_1-logloss:0.682874\n",
            "[14]\tvalidation_0-logloss:0.681255\tvalidation_1-logloss:0.682197\n",
            "[15]\tvalidation_0-logloss:0.680511\tvalidation_1-logloss:0.681513\n",
            "[16]\tvalidation_0-logloss:0.679715\tvalidation_1-logloss:0.680773\n",
            "[17]\tvalidation_0-logloss:0.679063\tvalidation_1-logloss:0.680192\n",
            "[18]\tvalidation_0-logloss:0.678322\tvalidation_1-logloss:0.679471\n",
            "[19]\tvalidation_0-logloss:0.677571\tvalidation_1-logloss:0.67891\n",
            "[20]\tvalidation_0-logloss:0.676875\tvalidation_1-logloss:0.678337\n",
            "[21]\tvalidation_0-logloss:0.67617\tvalidation_1-logloss:0.677732\n",
            "[22]\tvalidation_0-logloss:0.675432\tvalidation_1-logloss:0.677042\n",
            "[23]\tvalidation_0-logloss:0.674746\tvalidation_1-logloss:0.676378\n",
            "[24]\tvalidation_0-logloss:0.674061\tvalidation_1-logloss:0.675814\n",
            "[25]\tvalidation_0-logloss:0.67343\tvalidation_1-logloss:0.675252\n",
            "[26]\tvalidation_0-logloss:0.672768\tvalidation_1-logloss:0.674617\n",
            "[27]\tvalidation_0-logloss:0.672104\tvalidation_1-logloss:0.674007\n",
            "[28]\tvalidation_0-logloss:0.671497\tvalidation_1-logloss:0.673474\n",
            "[29]\tvalidation_0-logloss:0.670892\tvalidation_1-logloss:0.672861\n",
            "[30]\tvalidation_0-logloss:0.670245\tvalidation_1-logloss:0.672252\n",
            "[31]\tvalidation_0-logloss:0.669572\tvalidation_1-logloss:0.671595\n",
            "[32]\tvalidation_0-logloss:0.668939\tvalidation_1-logloss:0.670983\n",
            "[33]\tvalidation_0-logloss:0.668359\tvalidation_1-logloss:0.670366\n",
            "[34]\tvalidation_0-logloss:0.667706\tvalidation_1-logloss:0.669807\n",
            "[35]\tvalidation_0-logloss:0.667006\tvalidation_1-logloss:0.669203\n",
            "[36]\tvalidation_0-logloss:0.666421\tvalidation_1-logloss:0.668633\n",
            "[37]\tvalidation_0-logloss:0.665825\tvalidation_1-logloss:0.66805\n",
            "[38]\tvalidation_0-logloss:0.665206\tvalidation_1-logloss:0.667379\n",
            "[39]\tvalidation_0-logloss:0.664643\tvalidation_1-logloss:0.666847\n",
            "[40]\tvalidation_0-logloss:0.663959\tvalidation_1-logloss:0.666257\n",
            "[41]\tvalidation_0-logloss:0.663369\tvalidation_1-logloss:0.665689\n",
            "[42]\tvalidation_0-logloss:0.662821\tvalidation_1-logloss:0.665175\n",
            "[43]\tvalidation_0-logloss:0.662221\tvalidation_1-logloss:0.664718\n",
            "[44]\tvalidation_0-logloss:0.661587\tvalidation_1-logloss:0.664144\n",
            "[45]\tvalidation_0-logloss:0.661069\tvalidation_1-logloss:0.663667\n",
            "[46]\tvalidation_0-logloss:0.660469\tvalidation_1-logloss:0.663001\n",
            "[47]\tvalidation_0-logloss:0.659821\tvalidation_1-logloss:0.66249\n",
            "[48]\tvalidation_0-logloss:0.659226\tvalidation_1-logloss:0.661937\n",
            "[49]\tvalidation_0-logloss:0.65869\tvalidation_1-logloss:0.661374\n",
            "[50]\tvalidation_0-logloss:0.658112\tvalidation_1-logloss:0.660839\n",
            "[51]\tvalidation_0-logloss:0.65753\tvalidation_1-logloss:0.660288\n",
            "[52]\tvalidation_0-logloss:0.656927\tvalidation_1-logloss:0.659752\n",
            "[53]\tvalidation_0-logloss:0.656407\tvalidation_1-logloss:0.659274\n",
            "[54]\tvalidation_0-logloss:0.655881\tvalidation_1-logloss:0.658844\n",
            "[55]\tvalidation_0-logloss:0.655289\tvalidation_1-logloss:0.658274\n",
            "[56]\tvalidation_0-logloss:0.65474\tvalidation_1-logloss:0.657777\n",
            "[57]\tvalidation_0-logloss:0.654211\tvalidation_1-logloss:0.657298\n",
            "[58]\tvalidation_0-logloss:0.653683\tvalidation_1-logloss:0.656787\n",
            "[59]\tvalidation_0-logloss:0.653213\tvalidation_1-logloss:0.656369\n",
            "[60]\tvalidation_0-logloss:0.652676\tvalidation_1-logloss:0.655984\n",
            "[61]\tvalidation_0-logloss:0.652207\tvalidation_1-logloss:0.655553\n",
            "[62]\tvalidation_0-logloss:0.651699\tvalidation_1-logloss:0.655108\n",
            "[63]\tvalidation_0-logloss:0.651119\tvalidation_1-logloss:0.654642\n",
            "[64]\tvalidation_0-logloss:0.650658\tvalidation_1-logloss:0.654111\n",
            "[65]\tvalidation_0-logloss:0.650207\tvalidation_1-logloss:0.653721\n",
            "[66]\tvalidation_0-logloss:0.649777\tvalidation_1-logloss:0.653279\n",
            "[67]\tvalidation_0-logloss:0.649223\tvalidation_1-logloss:0.652845\n",
            "[68]\tvalidation_0-logloss:0.648776\tvalidation_1-logloss:0.652412\n",
            "[69]\tvalidation_0-logloss:0.648341\tvalidation_1-logloss:0.652055\n",
            "[70]\tvalidation_0-logloss:0.647878\tvalidation_1-logloss:0.651597\n",
            "[71]\tvalidation_0-logloss:0.647413\tvalidation_1-logloss:0.651174\n",
            "[72]\tvalidation_0-logloss:0.646977\tvalidation_1-logloss:0.650734\n",
            "[73]\tvalidation_0-logloss:0.6465\tvalidation_1-logloss:0.650313\n",
            "[74]\tvalidation_0-logloss:0.646016\tvalidation_1-logloss:0.649875\n",
            "[75]\tvalidation_0-logloss:0.645631\tvalidation_1-logloss:0.649505\n",
            "[76]\tvalidation_0-logloss:0.645151\tvalidation_1-logloss:0.649009\n",
            "[77]\tvalidation_0-logloss:0.644714\tvalidation_1-logloss:0.648582\n",
            "[78]\tvalidation_0-logloss:0.644185\tvalidation_1-logloss:0.648138\n",
            "[79]\tvalidation_0-logloss:0.643754\tvalidation_1-logloss:0.64777\n",
            "[80]\tvalidation_0-logloss:0.643379\tvalidation_1-logloss:0.647415\n",
            "[81]\tvalidation_0-logloss:0.642961\tvalidation_1-logloss:0.647003\n",
            "[82]\tvalidation_0-logloss:0.642523\tvalidation_1-logloss:0.646631\n",
            "[83]\tvalidation_0-logloss:0.642061\tvalidation_1-logloss:0.646206\n",
            "[84]\tvalidation_0-logloss:0.641594\tvalidation_1-logloss:0.64578\n",
            "[85]\tvalidation_0-logloss:0.641156\tvalidation_1-logloss:0.645386\n",
            "[86]\tvalidation_0-logloss:0.640781\tvalidation_1-logloss:0.64508\n",
            "[87]\tvalidation_0-logloss:0.640381\tvalidation_1-logloss:0.644729\n",
            "[88]\tvalidation_0-logloss:0.639966\tvalidation_1-logloss:0.644363\n",
            "[89]\tvalidation_0-logloss:0.639492\tvalidation_1-logloss:0.644009\n",
            "[90]\tvalidation_0-logloss:0.63904\tvalidation_1-logloss:0.643558\n",
            "[91]\tvalidation_0-logloss:0.638597\tvalidation_1-logloss:0.643112\n",
            "[92]\tvalidation_0-logloss:0.638139\tvalidation_1-logloss:0.642785\n",
            "[93]\tvalidation_0-logloss:0.637773\tvalidation_1-logloss:0.642453\n",
            "[94]\tvalidation_0-logloss:0.637397\tvalidation_1-logloss:0.64205\n",
            "[95]\tvalidation_0-logloss:0.637045\tvalidation_1-logloss:0.641677\n",
            "[96]\tvalidation_0-logloss:0.636674\tvalidation_1-logloss:0.641353\n",
            "[97]\tvalidation_0-logloss:0.636341\tvalidation_1-logloss:0.641058\n",
            "[98]\tvalidation_0-logloss:0.635933\tvalidation_1-logloss:0.640674\n",
            "[99]\tvalidation_0-logloss:0.63551\tvalidation_1-logloss:0.640309\n",
            "[100]\tvalidation_0-logloss:0.635149\tvalidation_1-logloss:0.639968\n",
            "[101]\tvalidation_0-logloss:0.634737\tvalidation_1-logloss:0.63963\n",
            "[102]\tvalidation_0-logloss:0.634311\tvalidation_1-logloss:0.639225\n",
            "[103]\tvalidation_0-logloss:0.633981\tvalidation_1-logloss:0.638953\n",
            "[104]\tvalidation_0-logloss:0.633545\tvalidation_1-logloss:0.638539\n",
            "[105]\tvalidation_0-logloss:0.633202\tvalidation_1-logloss:0.638236\n",
            "[106]\tvalidation_0-logloss:0.632787\tvalidation_1-logloss:0.637913\n",
            "[107]\tvalidation_0-logloss:0.632458\tvalidation_1-logloss:0.63762\n",
            "[108]\tvalidation_0-logloss:0.632091\tvalidation_1-logloss:0.637233\n",
            "[109]\tvalidation_0-logloss:0.631653\tvalidation_1-logloss:0.636843\n",
            "[110]\tvalidation_0-logloss:0.631367\tvalidation_1-logloss:0.636594\n",
            "[111]\tvalidation_0-logloss:0.631003\tvalidation_1-logloss:0.636232\n",
            "[112]\tvalidation_0-logloss:0.630618\tvalidation_1-logloss:0.635836\n",
            "[113]\tvalidation_0-logloss:0.63027\tvalidation_1-logloss:0.635446\n",
            "[114]\tvalidation_0-logloss:0.629934\tvalidation_1-logloss:0.635197\n",
            "[115]\tvalidation_0-logloss:0.62955\tvalidation_1-logloss:0.634879\n",
            "[116]\tvalidation_0-logloss:0.629181\tvalidation_1-logloss:0.634588\n",
            "[117]\tvalidation_0-logloss:0.628723\tvalidation_1-logloss:0.634226\n",
            "[118]\tvalidation_0-logloss:0.628412\tvalidation_1-logloss:0.633914\n",
            "[119]\tvalidation_0-logloss:0.628061\tvalidation_1-logloss:0.633618\n",
            "[120]\tvalidation_0-logloss:0.627673\tvalidation_1-logloss:0.63331\n",
            "[121]\tvalidation_0-logloss:0.62736\tvalidation_1-logloss:0.632985\n",
            "[122]\tvalidation_0-logloss:0.627049\tvalidation_1-logloss:0.632653\n",
            "[123]\tvalidation_0-logloss:0.626735\tvalidation_1-logloss:0.632341\n",
            "[124]\tvalidation_0-logloss:0.62642\tvalidation_1-logloss:0.632057\n",
            "[125]\tvalidation_0-logloss:0.626018\tvalidation_1-logloss:0.631737\n",
            "[126]\tvalidation_0-logloss:0.625749\tvalidation_1-logloss:0.631492\n",
            "[127]\tvalidation_0-logloss:0.625349\tvalidation_1-logloss:0.631199\n",
            "[128]\tvalidation_0-logloss:0.624931\tvalidation_1-logloss:0.630884\n",
            "[129]\tvalidation_0-logloss:0.624611\tvalidation_1-logloss:0.630617\n",
            "[130]\tvalidation_0-logloss:0.624212\tvalidation_1-logloss:0.630277\n",
            "[131]\tvalidation_0-logloss:0.623894\tvalidation_1-logloss:0.629957\n",
            "[132]\tvalidation_0-logloss:0.623494\tvalidation_1-logloss:0.629674\n",
            "[133]\tvalidation_0-logloss:0.623126\tvalidation_1-logloss:0.629394\n",
            "[134]\tvalidation_0-logloss:0.622763\tvalidation_1-logloss:0.629054\n",
            "[135]\tvalidation_0-logloss:0.622494\tvalidation_1-logloss:0.628823\n",
            "[136]\tvalidation_0-logloss:0.622146\tvalidation_1-logloss:0.628504\n",
            "[137]\tvalidation_0-logloss:0.621897\tvalidation_1-logloss:0.62828\n",
            "[138]\tvalidation_0-logloss:0.621653\tvalidation_1-logloss:0.628019\n",
            "[139]\tvalidation_0-logloss:0.621283\tvalidation_1-logloss:0.627638\n",
            "[140]\tvalidation_0-logloss:0.620995\tvalidation_1-logloss:0.627402\n",
            "[141]\tvalidation_0-logloss:0.620708\tvalidation_1-logloss:0.627178\n",
            "[142]\tvalidation_0-logloss:0.620353\tvalidation_1-logloss:0.626916\n",
            "[143]\tvalidation_0-logloss:0.620023\tvalidation_1-logloss:0.626622\n",
            "[144]\tvalidation_0-logloss:0.619679\tvalidation_1-logloss:0.626337\n",
            "[145]\tvalidation_0-logloss:0.619326\tvalidation_1-logloss:0.626016\n",
            "[146]\tvalidation_0-logloss:0.619022\tvalidation_1-logloss:0.625776\n",
            "[147]\tvalidation_0-logloss:0.6187\tvalidation_1-logloss:0.625472\n",
            "[148]\tvalidation_0-logloss:0.618416\tvalidation_1-logloss:0.625275\n",
            "[149]\tvalidation_0-logloss:0.618044\tvalidation_1-logloss:0.625008\n",
            "[150]\tvalidation_0-logloss:0.617786\tvalidation_1-logloss:0.624744\n",
            "[151]\tvalidation_0-logloss:0.617525\tvalidation_1-logloss:0.624499\n",
            "[152]\tvalidation_0-logloss:0.617196\tvalidation_1-logloss:0.62428\n",
            "[153]\tvalidation_0-logloss:0.616957\tvalidation_1-logloss:0.624045\n",
            "[154]\tvalidation_0-logloss:0.616676\tvalidation_1-logloss:0.623794\n",
            "[155]\tvalidation_0-logloss:0.616428\tvalidation_1-logloss:0.623559\n",
            "[156]\tvalidation_0-logloss:0.61618\tvalidation_1-logloss:0.623316\n",
            "[157]\tvalidation_0-logloss:0.61591\tvalidation_1-logloss:0.623078\n",
            "[158]\tvalidation_0-logloss:0.615561\tvalidation_1-logloss:0.622853\n",
            "[159]\tvalidation_0-logloss:0.615324\tvalidation_1-logloss:0.622566\n",
            "[160]\tvalidation_0-logloss:0.615068\tvalidation_1-logloss:0.622308\n",
            "[161]\tvalidation_0-logloss:0.614685\tvalidation_1-logloss:0.622057\n",
            "[162]\tvalidation_0-logloss:0.614398\tvalidation_1-logloss:0.621804\n",
            "[163]\tvalidation_0-logloss:0.614145\tvalidation_1-logloss:0.621559\n",
            "[164]\tvalidation_0-logloss:0.613928\tvalidation_1-logloss:0.621356\n",
            "[165]\tvalidation_0-logloss:0.613669\tvalidation_1-logloss:0.62106\n",
            "[166]\tvalidation_0-logloss:0.613403\tvalidation_1-logloss:0.620846\n",
            "[167]\tvalidation_0-logloss:0.613116\tvalidation_1-logloss:0.620576\n",
            "[168]\tvalidation_0-logloss:0.612873\tvalidation_1-logloss:0.620354\n",
            "[169]\tvalidation_0-logloss:0.612675\tvalidation_1-logloss:0.620152\n",
            "[170]\tvalidation_0-logloss:0.612374\tvalidation_1-logloss:0.619914\n",
            "[171]\tvalidation_0-logloss:0.612136\tvalidation_1-logloss:0.619729\n",
            "[172]\tvalidation_0-logloss:0.611905\tvalidation_1-logloss:0.619461\n",
            "[173]\tvalidation_0-logloss:0.611633\tvalidation_1-logloss:0.619262\n",
            "[174]\tvalidation_0-logloss:0.61137\tvalidation_1-logloss:0.619055\n",
            "[175]\tvalidation_0-logloss:0.611052\tvalidation_1-logloss:0.61883\n",
            "[176]\tvalidation_0-logloss:0.610866\tvalidation_1-logloss:0.618613\n",
            "[177]\tvalidation_0-logloss:0.610596\tvalidation_1-logloss:0.618402\n",
            "[178]\tvalidation_0-logloss:0.610335\tvalidation_1-logloss:0.618139\n",
            "[179]\tvalidation_0-logloss:0.610117\tvalidation_1-logloss:0.617966\n",
            "[180]\tvalidation_0-logloss:0.609887\tvalidation_1-logloss:0.617732\n",
            "[181]\tvalidation_0-logloss:0.609653\tvalidation_1-logloss:0.617555\n",
            "[182]\tvalidation_0-logloss:0.60941\tvalidation_1-logloss:0.617366\n",
            "[183]\tvalidation_0-logloss:0.609116\tvalidation_1-logloss:0.617149\n",
            "[184]\tvalidation_0-logloss:0.608913\tvalidation_1-logloss:0.616963\n",
            "[185]\tvalidation_0-logloss:0.608652\tvalidation_1-logloss:0.616771\n",
            "[186]\tvalidation_0-logloss:0.608452\tvalidation_1-logloss:0.616575\n",
            "[187]\tvalidation_0-logloss:0.608199\tvalidation_1-logloss:0.616349\n",
            "[188]\tvalidation_0-logloss:0.608013\tvalidation_1-logloss:0.616191\n",
            "[189]\tvalidation_0-logloss:0.607832\tvalidation_1-logloss:0.616028\n",
            "[190]\tvalidation_0-logloss:0.607628\tvalidation_1-logloss:0.615836\n",
            "[191]\tvalidation_0-logloss:0.607401\tvalidation_1-logloss:0.615674\n",
            "[192]\tvalidation_0-logloss:0.607184\tvalidation_1-logloss:0.615491\n",
            "[193]\tvalidation_0-logloss:0.606889\tvalidation_1-logloss:0.615373\n",
            "[194]\tvalidation_0-logloss:0.606604\tvalidation_1-logloss:0.615176\n",
            "[195]\tvalidation_0-logloss:0.606439\tvalidation_1-logloss:0.61506\n",
            "[196]\tvalidation_0-logloss:0.606284\tvalidation_1-logloss:0.614925\n",
            "[197]\tvalidation_0-logloss:0.60599\tvalidation_1-logloss:0.614702\n",
            "[198]\tvalidation_0-logloss:0.605787\tvalidation_1-logloss:0.614492\n",
            "[199]\tvalidation_0-logloss:0.605613\tvalidation_1-logloss:0.614347\n",
            "[200]\tvalidation_0-logloss:0.605421\tvalidation_1-logloss:0.614191\n",
            "[201]\tvalidation_0-logloss:0.60521\tvalidation_1-logloss:0.614025\n",
            "[202]\tvalidation_0-logloss:0.605027\tvalidation_1-logloss:0.613881\n",
            "[203]\tvalidation_0-logloss:0.604743\tvalidation_1-logloss:0.613674\n",
            "[204]\tvalidation_0-logloss:0.604523\tvalidation_1-logloss:0.613495\n",
            "[205]\tvalidation_0-logloss:0.604257\tvalidation_1-logloss:0.613224\n",
            "[206]\tvalidation_0-logloss:0.603993\tvalidation_1-logloss:0.613006\n",
            "[207]\tvalidation_0-logloss:0.603727\tvalidation_1-logloss:0.612891\n",
            "[208]\tvalidation_0-logloss:0.603582\tvalidation_1-logloss:0.612739\n",
            "[209]\tvalidation_0-logloss:0.603381\tvalidation_1-logloss:0.61261\n",
            "[210]\tvalidation_0-logloss:0.603193\tvalidation_1-logloss:0.612482\n",
            "[211]\tvalidation_0-logloss:0.602942\tvalidation_1-logloss:0.612315\n",
            "[212]\tvalidation_0-logloss:0.602634\tvalidation_1-logloss:0.612062\n",
            "[213]\tvalidation_0-logloss:0.602427\tvalidation_1-logloss:0.611947\n",
            "[214]\tvalidation_0-logloss:0.602253\tvalidation_1-logloss:0.611783\n",
            "[215]\tvalidation_0-logloss:0.602062\tvalidation_1-logloss:0.611576\n",
            "[216]\tvalidation_0-logloss:0.601867\tvalidation_1-logloss:0.611365\n",
            "[217]\tvalidation_0-logloss:0.601656\tvalidation_1-logloss:0.611185\n",
            "[218]\tvalidation_0-logloss:0.601428\tvalidation_1-logloss:0.611\n",
            "[219]\tvalidation_0-logloss:0.601252\tvalidation_1-logloss:0.61088\n",
            "[220]\tvalidation_0-logloss:0.601093\tvalidation_1-logloss:0.610779\n",
            "[221]\tvalidation_0-logloss:0.600914\tvalidation_1-logloss:0.610575\n",
            "[222]\tvalidation_0-logloss:0.600724\tvalidation_1-logloss:0.61044\n",
            "[223]\tvalidation_0-logloss:0.600433\tvalidation_1-logloss:0.610272\n",
            "[224]\tvalidation_0-logloss:0.600231\tvalidation_1-logloss:0.610022\n",
            "[225]\tvalidation_0-logloss:0.600001\tvalidation_1-logloss:0.609839\n",
            "[226]\tvalidation_0-logloss:0.599823\tvalidation_1-logloss:0.609667\n",
            "[227]\tvalidation_0-logloss:0.599644\tvalidation_1-logloss:0.609506\n",
            "[228]\tvalidation_0-logloss:0.599388\tvalidation_1-logloss:0.609369\n",
            "[229]\tvalidation_0-logloss:0.599187\tvalidation_1-logloss:0.609185\n",
            "[230]\tvalidation_0-logloss:0.59901\tvalidation_1-logloss:0.609059\n",
            "[231]\tvalidation_0-logloss:0.598808\tvalidation_1-logloss:0.608915\n",
            "[232]\tvalidation_0-logloss:0.598626\tvalidation_1-logloss:0.608759\n",
            "[233]\tvalidation_0-logloss:0.598476\tvalidation_1-logloss:0.608583\n",
            "[234]\tvalidation_0-logloss:0.59833\tvalidation_1-logloss:0.608427\n",
            "[235]\tvalidation_0-logloss:0.59813\tvalidation_1-logloss:0.608223\n",
            "[236]\tvalidation_0-logloss:0.597989\tvalidation_1-logloss:0.608103\n",
            "[237]\tvalidation_0-logloss:0.597818\tvalidation_1-logloss:0.607949\n",
            "[238]\tvalidation_0-logloss:0.597603\tvalidation_1-logloss:0.607833\n",
            "[239]\tvalidation_0-logloss:0.597446\tvalidation_1-logloss:0.607729\n",
            "[240]\tvalidation_0-logloss:0.597195\tvalidation_1-logloss:0.607591\n",
            "[241]\tvalidation_0-logloss:0.597031\tvalidation_1-logloss:0.607476\n",
            "[242]\tvalidation_0-logloss:0.596878\tvalidation_1-logloss:0.607431\n",
            "[243]\tvalidation_0-logloss:0.596738\tvalidation_1-logloss:0.607281\n",
            "[244]\tvalidation_0-logloss:0.5966\tvalidation_1-logloss:0.607186\n",
            "[245]\tvalidation_0-logloss:0.596451\tvalidation_1-logloss:0.607053\n",
            "[246]\tvalidation_0-logloss:0.596303\tvalidation_1-logloss:0.607007\n",
            "[247]\tvalidation_0-logloss:0.596143\tvalidation_1-logloss:0.606878\n",
            "[248]\tvalidation_0-logloss:0.59603\tvalidation_1-logloss:0.606781\n",
            "[249]\tvalidation_0-logloss:0.595899\tvalidation_1-logloss:0.606641\n",
            "[250]\tvalidation_0-logloss:0.595758\tvalidation_1-logloss:0.606512\n",
            "[251]\tvalidation_0-logloss:0.595595\tvalidation_1-logloss:0.606341\n",
            "[252]\tvalidation_0-logloss:0.595442\tvalidation_1-logloss:0.606291\n",
            "[253]\tvalidation_0-logloss:0.595348\tvalidation_1-logloss:0.606206\n",
            "[254]\tvalidation_0-logloss:0.595171\tvalidation_1-logloss:0.606097\n",
            "[255]\tvalidation_0-logloss:0.594998\tvalidation_1-logloss:0.60593\n",
            "[256]\tvalidation_0-logloss:0.594826\tvalidation_1-logloss:0.605821\n",
            "[257]\tvalidation_0-logloss:0.594717\tvalidation_1-logloss:0.605696\n",
            "[258]\tvalidation_0-logloss:0.594555\tvalidation_1-logloss:0.605566\n",
            "[259]\tvalidation_0-logloss:0.594428\tvalidation_1-logloss:0.605408\n",
            "[260]\tvalidation_0-logloss:0.594254\tvalidation_1-logloss:0.605324\n",
            "[261]\tvalidation_0-logloss:0.594073\tvalidation_1-logloss:0.605214\n",
            "[262]\tvalidation_0-logloss:0.59393\tvalidation_1-logloss:0.605148\n",
            "[263]\tvalidation_0-logloss:0.593802\tvalidation_1-logloss:0.605045\n",
            "[264]\tvalidation_0-logloss:0.593598\tvalidation_1-logloss:0.60495\n",
            "[265]\tvalidation_0-logloss:0.593469\tvalidation_1-logloss:0.604809\n",
            "[266]\tvalidation_0-logloss:0.593378\tvalidation_1-logloss:0.60473\n",
            "[267]\tvalidation_0-logloss:0.593278\tvalidation_1-logloss:0.604645\n",
            "[268]\tvalidation_0-logloss:0.593066\tvalidation_1-logloss:0.604553\n",
            "[269]\tvalidation_0-logloss:0.592914\tvalidation_1-logloss:0.604437\n",
            "[270]\tvalidation_0-logloss:0.592682\tvalidation_1-logloss:0.604299\n",
            "[271]\tvalidation_0-logloss:0.592498\tvalidation_1-logloss:0.604129\n",
            "[272]\tvalidation_0-logloss:0.592361\tvalidation_1-logloss:0.603967\n",
            "[273]\tvalidation_0-logloss:0.59225\tvalidation_1-logloss:0.60389\n",
            "[274]\tvalidation_0-logloss:0.592136\tvalidation_1-logloss:0.603821\n",
            "[275]\tvalidation_0-logloss:0.591938\tvalidation_1-logloss:0.603661\n",
            "[276]\tvalidation_0-logloss:0.591704\tvalidation_1-logloss:0.603518\n",
            "[277]\tvalidation_0-logloss:0.59153\tvalidation_1-logloss:0.603426\n",
            "[278]\tvalidation_0-logloss:0.591359\tvalidation_1-logloss:0.603315\n",
            "[279]\tvalidation_0-logloss:0.591276\tvalidation_1-logloss:0.603246\n",
            "[280]\tvalidation_0-logloss:0.591137\tvalidation_1-logloss:0.603152\n",
            "[281]\tvalidation_0-logloss:0.590947\tvalidation_1-logloss:0.603038\n",
            "[282]\tvalidation_0-logloss:0.590798\tvalidation_1-logloss:0.602941\n",
            "[283]\tvalidation_0-logloss:0.590622\tvalidation_1-logloss:0.602806\n",
            "[284]\tvalidation_0-logloss:0.590523\tvalidation_1-logloss:0.602731\n",
            "[285]\tvalidation_0-logloss:0.590387\tvalidation_1-logloss:0.602583\n",
            "[286]\tvalidation_0-logloss:0.590272\tvalidation_1-logloss:0.602527\n",
            "[287]\tvalidation_0-logloss:0.590155\tvalidation_1-logloss:0.602452\n",
            "[288]\tvalidation_0-logloss:0.590001\tvalidation_1-logloss:0.602319\n",
            "[289]\tvalidation_0-logloss:0.589833\tvalidation_1-logloss:0.602212\n",
            "[290]\tvalidation_0-logloss:0.589749\tvalidation_1-logloss:0.60212\n",
            "[291]\tvalidation_0-logloss:0.58962\tvalidation_1-logloss:0.602027\n",
            "[292]\tvalidation_0-logloss:0.589491\tvalidation_1-logloss:0.601932\n",
            "[293]\tvalidation_0-logloss:0.589414\tvalidation_1-logloss:0.601821\n",
            "[294]\tvalidation_0-logloss:0.58926\tvalidation_1-logloss:0.601722\n",
            "[295]\tvalidation_0-logloss:0.589139\tvalidation_1-logloss:0.601605\n",
            "[296]\tvalidation_0-logloss:0.589049\tvalidation_1-logloss:0.601537\n",
            "[297]\tvalidation_0-logloss:0.588893\tvalidation_1-logloss:0.601424\n",
            "[298]\tvalidation_0-logloss:0.588795\tvalidation_1-logloss:0.601352\n",
            "[299]\tvalidation_0-logloss:0.588664\tvalidation_1-logloss:0.601266\n",
            "[300]\tvalidation_0-logloss:0.588531\tvalidation_1-logloss:0.601249\n",
            "[301]\tvalidation_0-logloss:0.588364\tvalidation_1-logloss:0.601186\n",
            "[302]\tvalidation_0-logloss:0.588237\tvalidation_1-logloss:0.601062\n",
            "[303]\tvalidation_0-logloss:0.588164\tvalidation_1-logloss:0.600996\n",
            "[304]\tvalidation_0-logloss:0.58799\tvalidation_1-logloss:0.600866\n",
            "[305]\tvalidation_0-logloss:0.58779\tvalidation_1-logloss:0.600796\n",
            "[306]\tvalidation_0-logloss:0.587585\tvalidation_1-logloss:0.600724\n",
            "[307]\tvalidation_0-logloss:0.587496\tvalidation_1-logloss:0.600666\n",
            "[308]\tvalidation_0-logloss:0.587379\tvalidation_1-logloss:0.600597\n",
            "[309]\tvalidation_0-logloss:0.587239\tvalidation_1-logloss:0.600501\n",
            "[310]\tvalidation_0-logloss:0.58714\tvalidation_1-logloss:0.600472\n",
            "[311]\tvalidation_0-logloss:0.587057\tvalidation_1-logloss:0.600406\n",
            "[312]\tvalidation_0-logloss:0.586974\tvalidation_1-logloss:0.600324\n",
            "[313]\tvalidation_0-logloss:0.586827\tvalidation_1-logloss:0.600255\n",
            "[314]\tvalidation_0-logloss:0.586699\tvalidation_1-logloss:0.600176\n",
            "[315]\tvalidation_0-logloss:0.586584\tvalidation_1-logloss:0.600084\n",
            "[316]\tvalidation_0-logloss:0.586419\tvalidation_1-logloss:0.599955\n",
            "[317]\tvalidation_0-logloss:0.586316\tvalidation_1-logloss:0.599855\n",
            "[318]\tvalidation_0-logloss:0.58623\tvalidation_1-logloss:0.599808\n",
            "[319]\tvalidation_0-logloss:0.586083\tvalidation_1-logloss:0.599691\n",
            "[320]\tvalidation_0-logloss:0.58596\tvalidation_1-logloss:0.599582\n",
            "[321]\tvalidation_0-logloss:0.585888\tvalidation_1-logloss:0.599511\n",
            "[322]\tvalidation_0-logloss:0.585731\tvalidation_1-logloss:0.599431\n",
            "[323]\tvalidation_0-logloss:0.585563\tvalidation_1-logloss:0.599308\n",
            "[324]\tvalidation_0-logloss:0.585393\tvalidation_1-logloss:0.599199\n",
            "[325]\tvalidation_0-logloss:0.585237\tvalidation_1-logloss:0.599118\n",
            "[326]\tvalidation_0-logloss:0.585079\tvalidation_1-logloss:0.599016\n",
            "[327]\tvalidation_0-logloss:0.584944\tvalidation_1-logloss:0.598951\n",
            "[328]\tvalidation_0-logloss:0.58485\tvalidation_1-logloss:0.598887\n",
            "[329]\tvalidation_0-logloss:0.584676\tvalidation_1-logloss:0.598792\n",
            "[330]\tvalidation_0-logloss:0.58458\tvalidation_1-logloss:0.598727\n",
            "[331]\tvalidation_0-logloss:0.584401\tvalidation_1-logloss:0.598661\n",
            "[332]\tvalidation_0-logloss:0.58427\tvalidation_1-logloss:0.598563\n",
            "[333]\tvalidation_0-logloss:0.584069\tvalidation_1-logloss:0.598445\n",
            "[334]\tvalidation_0-logloss:0.583985\tvalidation_1-logloss:0.598371\n",
            "[335]\tvalidation_0-logloss:0.583892\tvalidation_1-logloss:0.598292\n",
            "[336]\tvalidation_0-logloss:0.583763\tvalidation_1-logloss:0.598192\n",
            "[337]\tvalidation_0-logloss:0.583672\tvalidation_1-logloss:0.598137\n",
            "[338]\tvalidation_0-logloss:0.583577\tvalidation_1-logloss:0.598067\n",
            "[339]\tvalidation_0-logloss:0.583485\tvalidation_1-logloss:0.597977\n",
            "[340]\tvalidation_0-logloss:0.583423\tvalidation_1-logloss:0.597876\n",
            "[341]\tvalidation_0-logloss:0.583281\tvalidation_1-logloss:0.5978\n",
            "[342]\tvalidation_0-logloss:0.583151\tvalidation_1-logloss:0.597697\n",
            "[343]\tvalidation_0-logloss:0.582997\tvalidation_1-logloss:0.597603\n",
            "[344]\tvalidation_0-logloss:0.58286\tvalidation_1-logloss:0.597494\n",
            "[345]\tvalidation_0-logloss:0.582696\tvalidation_1-logloss:0.597415\n",
            "[346]\tvalidation_0-logloss:0.582599\tvalidation_1-logloss:0.597318\n",
            "[347]\tvalidation_0-logloss:0.582439\tvalidation_1-logloss:0.597197\n",
            "[348]\tvalidation_0-logloss:0.582367\tvalidation_1-logloss:0.597162\n",
            "[349]\tvalidation_0-logloss:0.582278\tvalidation_1-logloss:0.597106\n",
            "[350]\tvalidation_0-logloss:0.582184\tvalidation_1-logloss:0.597051\n",
            "[351]\tvalidation_0-logloss:0.582104\tvalidation_1-logloss:0.597028\n",
            "[352]\tvalidation_0-logloss:0.581994\tvalidation_1-logloss:0.597038\n",
            "[353]\tvalidation_0-logloss:0.581933\tvalidation_1-logloss:0.59696\n",
            "[354]\tvalidation_0-logloss:0.581784\tvalidation_1-logloss:0.596845\n",
            "[355]\tvalidation_0-logloss:0.581673\tvalidation_1-logloss:0.596806\n",
            "[356]\tvalidation_0-logloss:0.581607\tvalidation_1-logloss:0.596726\n",
            "[357]\tvalidation_0-logloss:0.581515\tvalidation_1-logloss:0.596707\n",
            "[358]\tvalidation_0-logloss:0.581397\tvalidation_1-logloss:0.596612\n",
            "[359]\tvalidation_0-logloss:0.581304\tvalidation_1-logloss:0.596542\n",
            "[360]\tvalidation_0-logloss:0.581242\tvalidation_1-logloss:0.596471\n",
            "[361]\tvalidation_0-logloss:0.581181\tvalidation_1-logloss:0.596404\n",
            "[362]\tvalidation_0-logloss:0.581107\tvalidation_1-logloss:0.596345\n",
            "[363]\tvalidation_0-logloss:0.581027\tvalidation_1-logloss:0.596322\n",
            "[364]\tvalidation_0-logloss:0.580881\tvalidation_1-logloss:0.596339\n",
            "[365]\tvalidation_0-logloss:0.580788\tvalidation_1-logloss:0.596298\n",
            "[366]\tvalidation_0-logloss:0.580656\tvalidation_1-logloss:0.596197\n",
            "[367]\tvalidation_0-logloss:0.580566\tvalidation_1-logloss:0.596119\n",
            "[368]\tvalidation_0-logloss:0.580488\tvalidation_1-logloss:0.596097\n",
            "[369]\tvalidation_0-logloss:0.580398\tvalidation_1-logloss:0.59604\n",
            "[370]\tvalidation_0-logloss:0.580313\tvalidation_1-logloss:0.596011\n",
            "[371]\tvalidation_0-logloss:0.580261\tvalidation_1-logloss:0.595955\n",
            "[372]\tvalidation_0-logloss:0.58012\tvalidation_1-logloss:0.595938\n",
            "[373]\tvalidation_0-logloss:0.58\tvalidation_1-logloss:0.595855\n",
            "[374]\tvalidation_0-logloss:0.579787\tvalidation_1-logloss:0.595772\n",
            "[375]\tvalidation_0-logloss:0.579735\tvalidation_1-logloss:0.595734\n",
            "[376]\tvalidation_0-logloss:0.579691\tvalidation_1-logloss:0.595677\n",
            "[377]\tvalidation_0-logloss:0.579658\tvalidation_1-logloss:0.595627\n",
            "[378]\tvalidation_0-logloss:0.579568\tvalidation_1-logloss:0.595576\n",
            "[379]\tvalidation_0-logloss:0.579472\tvalidation_1-logloss:0.595466\n",
            "[380]\tvalidation_0-logloss:0.579398\tvalidation_1-logloss:0.595446\n",
            "[381]\tvalidation_0-logloss:0.579336\tvalidation_1-logloss:0.595366\n",
            "[382]\tvalidation_0-logloss:0.579245\tvalidation_1-logloss:0.595288\n",
            "[383]\tvalidation_0-logloss:0.579172\tvalidation_1-logloss:0.595284\n",
            "[384]\tvalidation_0-logloss:0.579136\tvalidation_1-logloss:0.595234\n",
            "[385]\tvalidation_0-logloss:0.578996\tvalidation_1-logloss:0.595084\n",
            "[386]\tvalidation_0-logloss:0.578873\tvalidation_1-logloss:0.595004\n",
            "[387]\tvalidation_0-logloss:0.578746\tvalidation_1-logloss:0.59492\n",
            "[388]\tvalidation_0-logloss:0.578656\tvalidation_1-logloss:0.594839\n",
            "[389]\tvalidation_0-logloss:0.578601\tvalidation_1-logloss:0.594798\n",
            "[390]\tvalidation_0-logloss:0.578481\tvalidation_1-logloss:0.594787\n",
            "[391]\tvalidation_0-logloss:0.578426\tvalidation_1-logloss:0.594729\n",
            "[392]\tvalidation_0-logloss:0.57828\tvalidation_1-logloss:0.594671\n",
            "[393]\tvalidation_0-logloss:0.578131\tvalidation_1-logloss:0.594608\n",
            "[394]\tvalidation_0-logloss:0.578008\tvalidation_1-logloss:0.594537\n",
            "[395]\tvalidation_0-logloss:0.57789\tvalidation_1-logloss:0.594501\n",
            "[396]\tvalidation_0-logloss:0.577789\tvalidation_1-logloss:0.594445\n",
            "[397]\tvalidation_0-logloss:0.577714\tvalidation_1-logloss:0.594422\n",
            "[398]\tvalidation_0-logloss:0.577668\tvalidation_1-logloss:0.594358\n",
            "[399]\tvalidation_0-logloss:0.577554\tvalidation_1-logloss:0.594321\n",
            "[400]\tvalidation_0-logloss:0.577436\tvalidation_1-logloss:0.594257\n",
            "[401]\tvalidation_0-logloss:0.577356\tvalidation_1-logloss:0.59421\n",
            "[402]\tvalidation_0-logloss:0.577188\tvalidation_1-logloss:0.594219\n",
            "[403]\tvalidation_0-logloss:0.577103\tvalidation_1-logloss:0.59419\n",
            "[404]\tvalidation_0-logloss:0.57695\tvalidation_1-logloss:0.594105\n",
            "[405]\tvalidation_0-logloss:0.576902\tvalidation_1-logloss:0.594078\n",
            "[406]\tvalidation_0-logloss:0.576812\tvalidation_1-logloss:0.594024\n",
            "[407]\tvalidation_0-logloss:0.576671\tvalidation_1-logloss:0.593977\n",
            "[408]\tvalidation_0-logloss:0.576562\tvalidation_1-logloss:0.593938\n",
            "[409]\tvalidation_0-logloss:0.576458\tvalidation_1-logloss:0.59397\n",
            "[410]\tvalidation_0-logloss:0.576349\tvalidation_1-logloss:0.593892\n",
            "[411]\tvalidation_0-logloss:0.57627\tvalidation_1-logloss:0.593862\n",
            "[412]\tvalidation_0-logloss:0.576138\tvalidation_1-logloss:0.593826\n",
            "[413]\tvalidation_0-logloss:0.576028\tvalidation_1-logloss:0.593729\n",
            "[414]\tvalidation_0-logloss:0.575973\tvalidation_1-logloss:0.593718\n",
            "[415]\tvalidation_0-logloss:0.575929\tvalidation_1-logloss:0.593659\n",
            "[416]\tvalidation_0-logloss:0.575835\tvalidation_1-logloss:0.59364\n",
            "[417]\tvalidation_0-logloss:0.575699\tvalidation_1-logloss:0.59357\n",
            "[418]\tvalidation_0-logloss:0.575667\tvalidation_1-logloss:0.593526\n",
            "[419]\tvalidation_0-logloss:0.575582\tvalidation_1-logloss:0.593448\n",
            "[420]\tvalidation_0-logloss:0.575511\tvalidation_1-logloss:0.59338\n",
            "[421]\tvalidation_0-logloss:0.575426\tvalidation_1-logloss:0.593294\n",
            "[422]\tvalidation_0-logloss:0.575356\tvalidation_1-logloss:0.593274\n",
            "[423]\tvalidation_0-logloss:0.575282\tvalidation_1-logloss:0.593206\n",
            "[424]\tvalidation_0-logloss:0.575213\tvalidation_1-logloss:0.593184\n",
            "[425]\tvalidation_0-logloss:0.575117\tvalidation_1-logloss:0.593091\n",
            "[426]\tvalidation_0-logloss:0.575044\tvalidation_1-logloss:0.593008\n",
            "[427]\tvalidation_0-logloss:0.574937\tvalidation_1-logloss:0.593064\n",
            "[428]\tvalidation_0-logloss:0.574812\tvalidation_1-logloss:0.593051\n",
            "[429]\tvalidation_0-logloss:0.574713\tvalidation_1-logloss:0.592929\n",
            "[430]\tvalidation_0-logloss:0.574664\tvalidation_1-logloss:0.592883\n",
            "[431]\tvalidation_0-logloss:0.574597\tvalidation_1-logloss:0.592835\n",
            "[432]\tvalidation_0-logloss:0.574522\tvalidation_1-logloss:0.592774\n",
            "[433]\tvalidation_0-logloss:0.574389\tvalidation_1-logloss:0.592736\n",
            "[434]\tvalidation_0-logloss:0.574283\tvalidation_1-logloss:0.592663\n",
            "[435]\tvalidation_0-logloss:0.574206\tvalidation_1-logloss:0.592626\n",
            "[436]\tvalidation_0-logloss:0.574115\tvalidation_1-logloss:0.59269\n",
            "[437]\tvalidation_0-logloss:0.574059\tvalidation_1-logloss:0.592699\n",
            "[438]\tvalidation_0-logloss:0.573999\tvalidation_1-logloss:0.592714\n",
            "[439]\tvalidation_0-logloss:0.57386\tvalidation_1-logloss:0.592689\n",
            "[440]\tvalidation_0-logloss:0.57377\tvalidation_1-logloss:0.592626\n",
            "[441]\tvalidation_0-logloss:0.5737\tvalidation_1-logloss:0.592621\n",
            "[442]\tvalidation_0-logloss:0.573604\tvalidation_1-logloss:0.592586\n",
            "[443]\tvalidation_0-logloss:0.57351\tvalidation_1-logloss:0.59253\n",
            "[444]\tvalidation_0-logloss:0.573442\tvalidation_1-logloss:0.592483\n",
            "[445]\tvalidation_0-logloss:0.573366\tvalidation_1-logloss:0.592403\n",
            "[446]\tvalidation_0-logloss:0.573331\tvalidation_1-logloss:0.592355\n",
            "[447]\tvalidation_0-logloss:0.573276\tvalidation_1-logloss:0.592266\n",
            "[448]\tvalidation_0-logloss:0.573201\tvalidation_1-logloss:0.592143\n",
            "[449]\tvalidation_0-logloss:0.573147\tvalidation_1-logloss:0.592091\n",
            "[450]\tvalidation_0-logloss:0.573072\tvalidation_1-logloss:0.591997\n",
            "[451]\tvalidation_0-logloss:0.572982\tvalidation_1-logloss:0.591973\n",
            "[452]\tvalidation_0-logloss:0.572904\tvalidation_1-logloss:0.591922\n",
            "[453]\tvalidation_0-logloss:0.572837\tvalidation_1-logloss:0.591863\n",
            "[454]\tvalidation_0-logloss:0.57276\tvalidation_1-logloss:0.591874\n",
            "[455]\tvalidation_0-logloss:0.572645\tvalidation_1-logloss:0.591896\n",
            "[456]\tvalidation_0-logloss:0.57257\tvalidation_1-logloss:0.591844\n",
            "[457]\tvalidation_0-logloss:0.572451\tvalidation_1-logloss:0.591801\n",
            "[458]\tvalidation_0-logloss:0.572305\tvalidation_1-logloss:0.591749\n",
            "[459]\tvalidation_0-logloss:0.572225\tvalidation_1-logloss:0.59172\n",
            "[460]\tvalidation_0-logloss:0.572151\tvalidation_1-logloss:0.591663\n",
            "[461]\tvalidation_0-logloss:0.572118\tvalidation_1-logloss:0.591615\n",
            "[462]\tvalidation_0-logloss:0.572067\tvalidation_1-logloss:0.591551\n",
            "[463]\tvalidation_0-logloss:0.572031\tvalidation_1-logloss:0.591566\n",
            "[464]\tvalidation_0-logloss:0.571895\tvalidation_1-logloss:0.591601\n",
            "[465]\tvalidation_0-logloss:0.571813\tvalidation_1-logloss:0.591578\n",
            "[466]\tvalidation_0-logloss:0.571753\tvalidation_1-logloss:0.59154\n",
            "[467]\tvalidation_0-logloss:0.571654\tvalidation_1-logloss:0.59143\n",
            "[468]\tvalidation_0-logloss:0.571552\tvalidation_1-logloss:0.591362\n",
            "[469]\tvalidation_0-logloss:0.571488\tvalidation_1-logloss:0.591309\n",
            "[470]\tvalidation_0-logloss:0.571406\tvalidation_1-logloss:0.591255\n",
            "[471]\tvalidation_0-logloss:0.571313\tvalidation_1-logloss:0.591204\n",
            "[472]\tvalidation_0-logloss:0.571249\tvalidation_1-logloss:0.591158\n",
            "[473]\tvalidation_0-logloss:0.571198\tvalidation_1-logloss:0.591153\n",
            "[474]\tvalidation_0-logloss:0.571094\tvalidation_1-logloss:0.591131\n",
            "[475]\tvalidation_0-logloss:0.571047\tvalidation_1-logloss:0.591116\n",
            "[476]\tvalidation_0-logloss:0.570997\tvalidation_1-logloss:0.591071\n",
            "[477]\tvalidation_0-logloss:0.570937\tvalidation_1-logloss:0.591025\n",
            "[478]\tvalidation_0-logloss:0.570913\tvalidation_1-logloss:0.591002\n",
            "[479]\tvalidation_0-logloss:0.57082\tvalidation_1-logloss:0.591073\n",
            "[480]\tvalidation_0-logloss:0.57077\tvalidation_1-logloss:0.591001\n",
            "[481]\tvalidation_0-logloss:0.570733\tvalidation_1-logloss:0.590975\n",
            "[482]\tvalidation_0-logloss:0.570642\tvalidation_1-logloss:0.590997\n",
            "[483]\tvalidation_0-logloss:0.570549\tvalidation_1-logloss:0.590929\n",
            "[484]\tvalidation_0-logloss:0.570483\tvalidation_1-logloss:0.590909\n",
            "[485]\tvalidation_0-logloss:0.570416\tvalidation_1-logloss:0.590849\n",
            "[486]\tvalidation_0-logloss:0.570368\tvalidation_1-logloss:0.59084\n",
            "[487]\tvalidation_0-logloss:0.570232\tvalidation_1-logloss:0.590856\n",
            "[488]\tvalidation_0-logloss:0.570183\tvalidation_1-logloss:0.59082\n",
            "[489]\tvalidation_0-logloss:0.570114\tvalidation_1-logloss:0.590772\n",
            "[490]\tvalidation_0-logloss:0.570006\tvalidation_1-logloss:0.59071\n",
            "[491]\tvalidation_0-logloss:0.569909\tvalidation_1-logloss:0.590686\n",
            "[492]\tvalidation_0-logloss:0.569859\tvalidation_1-logloss:0.590664\n",
            "[493]\tvalidation_0-logloss:0.56983\tvalidation_1-logloss:0.590645\n",
            "[494]\tvalidation_0-logloss:0.569765\tvalidation_1-logloss:0.590577\n",
            "[495]\tvalidation_0-logloss:0.569738\tvalidation_1-logloss:0.590554\n",
            "[496]\tvalidation_0-logloss:0.569661\tvalidation_1-logloss:0.590509\n",
            "[497]\tvalidation_0-logloss:0.569566\tvalidation_1-logloss:0.590531\n",
            "[498]\tvalidation_0-logloss:0.569504\tvalidation_1-logloss:0.590523\n",
            "[499]\tvalidation_0-logloss:0.569456\tvalidation_1-logloss:0.590431\n",
            "[500]\tvalidation_0-logloss:0.569364\tvalidation_1-logloss:0.590418\n",
            "[501]\tvalidation_0-logloss:0.569284\tvalidation_1-logloss:0.590336\n",
            "[502]\tvalidation_0-logloss:0.569262\tvalidation_1-logloss:0.590308\n",
            "[503]\tvalidation_0-logloss:0.56921\tvalidation_1-logloss:0.59026\n",
            "[504]\tvalidation_0-logloss:0.569131\tvalidation_1-logloss:0.590221\n",
            "[505]\tvalidation_0-logloss:0.569014\tvalidation_1-logloss:0.590223\n",
            "[506]\tvalidation_0-logloss:0.568896\tvalidation_1-logloss:0.590196\n",
            "[507]\tvalidation_0-logloss:0.568818\tvalidation_1-logloss:0.590193\n",
            "[508]\tvalidation_0-logloss:0.568749\tvalidation_1-logloss:0.590184\n",
            "[509]\tvalidation_0-logloss:0.568647\tvalidation_1-logloss:0.590199\n",
            "[510]\tvalidation_0-logloss:0.568525\tvalidation_1-logloss:0.590197\n",
            "[511]\tvalidation_0-logloss:0.568471\tvalidation_1-logloss:0.590167\n",
            "[512]\tvalidation_0-logloss:0.568443\tvalidation_1-logloss:0.590128\n",
            "[513]\tvalidation_0-logloss:0.568398\tvalidation_1-logloss:0.59014\n",
            "[514]\tvalidation_0-logloss:0.568375\tvalidation_1-logloss:0.590125\n",
            "[515]\tvalidation_0-logloss:0.568243\tvalidation_1-logloss:0.590149\n",
            "[516]\tvalidation_0-logloss:0.568176\tvalidation_1-logloss:0.590143\n",
            "[517]\tvalidation_0-logloss:0.568174\tvalidation_1-logloss:0.590138\n",
            "[518]\tvalidation_0-logloss:0.568124\tvalidation_1-logloss:0.59011\n",
            "[519]\tvalidation_0-logloss:0.567981\tvalidation_1-logloss:0.590151\n",
            "[520]\tvalidation_0-logloss:0.567938\tvalidation_1-logloss:0.590131\n",
            "[521]\tvalidation_0-logloss:0.567832\tvalidation_1-logloss:0.590132\n",
            "[522]\tvalidation_0-logloss:0.56772\tvalidation_1-logloss:0.590146\n",
            "[523]\tvalidation_0-logloss:0.567639\tvalidation_1-logloss:0.590135\n",
            "[524]\tvalidation_0-logloss:0.567602\tvalidation_1-logloss:0.590096\n",
            "[525]\tvalidation_0-logloss:0.567513\tvalidation_1-logloss:0.590078\n",
            "[526]\tvalidation_0-logloss:0.567407\tvalidation_1-logloss:0.590038\n",
            "[527]\tvalidation_0-logloss:0.567281\tvalidation_1-logloss:0.590048\n",
            "[528]\tvalidation_0-logloss:0.567171\tvalidation_1-logloss:0.590042\n",
            "[529]\tvalidation_0-logloss:0.567121\tvalidation_1-logloss:0.590021\n",
            "[530]\tvalidation_0-logloss:0.567037\tvalidation_1-logloss:0.589995\n",
            "[531]\tvalidation_0-logloss:0.566928\tvalidation_1-logloss:0.589925\n",
            "[532]\tvalidation_0-logloss:0.566879\tvalidation_1-logloss:0.589917\n",
            "[533]\tvalidation_0-logloss:0.566813\tvalidation_1-logloss:0.589869\n",
            "[534]\tvalidation_0-logloss:0.566776\tvalidation_1-logloss:0.589876\n",
            "[535]\tvalidation_0-logloss:0.566703\tvalidation_1-logloss:0.589829\n",
            "[536]\tvalidation_0-logloss:0.566579\tvalidation_1-logloss:0.589793\n",
            "[537]\tvalidation_0-logloss:0.566517\tvalidation_1-logloss:0.589754\n",
            "[538]\tvalidation_0-logloss:0.566431\tvalidation_1-logloss:0.589757\n",
            "[539]\tvalidation_0-logloss:0.566402\tvalidation_1-logloss:0.589715\n",
            "[540]\tvalidation_0-logloss:0.566287\tvalidation_1-logloss:0.589702\n",
            "[541]\tvalidation_0-logloss:0.566225\tvalidation_1-logloss:0.589744\n",
            "[542]\tvalidation_0-logloss:0.566124\tvalidation_1-logloss:0.58978\n",
            "[543]\tvalidation_0-logloss:0.565984\tvalidation_1-logloss:0.589791\n",
            "[544]\tvalidation_0-logloss:0.565925\tvalidation_1-logloss:0.589747\n",
            "[545]\tvalidation_0-logloss:0.565859\tvalidation_1-logloss:0.589729\n",
            "[546]\tvalidation_0-logloss:0.565742\tvalidation_1-logloss:0.589652\n",
            "[547]\tvalidation_0-logloss:0.56566\tvalidation_1-logloss:0.589627\n",
            "[548]\tvalidation_0-logloss:0.565595\tvalidation_1-logloss:0.589578\n",
            "[549]\tvalidation_0-logloss:0.565514\tvalidation_1-logloss:0.589597\n",
            "[550]\tvalidation_0-logloss:0.565434\tvalidation_1-logloss:0.589614\n",
            "[551]\tvalidation_0-logloss:0.565347\tvalidation_1-logloss:0.589675\n",
            "[552]\tvalidation_0-logloss:0.565241\tvalidation_1-logloss:0.589635\n",
            "[553]\tvalidation_0-logloss:0.56521\tvalidation_1-logloss:0.589642\n",
            "[554]\tvalidation_0-logloss:0.565078\tvalidation_1-logloss:0.589593\n",
            "[555]\tvalidation_0-logloss:0.565053\tvalidation_1-logloss:0.589597\n",
            "[556]\tvalidation_0-logloss:0.565009\tvalidation_1-logloss:0.589559\n",
            "[557]\tvalidation_0-logloss:0.564875\tvalidation_1-logloss:0.589587\n",
            "[558]\tvalidation_0-logloss:0.564848\tvalidation_1-logloss:0.589552\n",
            "[559]\tvalidation_0-logloss:0.564825\tvalidation_1-logloss:0.589554\n",
            "[560]\tvalidation_0-logloss:0.564723\tvalidation_1-logloss:0.589492\n",
            "[561]\tvalidation_0-logloss:0.56469\tvalidation_1-logloss:0.589476\n",
            "[562]\tvalidation_0-logloss:0.564615\tvalidation_1-logloss:0.589427\n",
            "[563]\tvalidation_0-logloss:0.564546\tvalidation_1-logloss:0.589424\n",
            "[564]\tvalidation_0-logloss:0.564485\tvalidation_1-logloss:0.589428\n",
            "[565]\tvalidation_0-logloss:0.564451\tvalidation_1-logloss:0.589402\n",
            "[566]\tvalidation_0-logloss:0.564412\tvalidation_1-logloss:0.58939\n",
            "[567]\tvalidation_0-logloss:0.56436\tvalidation_1-logloss:0.589416\n",
            "[568]\tvalidation_0-logloss:0.56429\tvalidation_1-logloss:0.589409\n",
            "[569]\tvalidation_0-logloss:0.564199\tvalidation_1-logloss:0.589398\n",
            "[570]\tvalidation_0-logloss:0.564078\tvalidation_1-logloss:0.589402\n",
            "[571]\tvalidation_0-logloss:0.563909\tvalidation_1-logloss:0.58934\n",
            "[572]\tvalidation_0-logloss:0.563846\tvalidation_1-logloss:0.58931\n",
            "[573]\tvalidation_0-logloss:0.563756\tvalidation_1-logloss:0.589295\n",
            "[574]\tvalidation_0-logloss:0.563649\tvalidation_1-logloss:0.58927\n",
            "[575]\tvalidation_0-logloss:0.563586\tvalidation_1-logloss:0.589274\n",
            "[576]\tvalidation_0-logloss:0.563515\tvalidation_1-logloss:0.589262\n",
            "[577]\tvalidation_0-logloss:0.563451\tvalidation_1-logloss:0.589225\n",
            "[578]\tvalidation_0-logloss:0.563372\tvalidation_1-logloss:0.589194\n",
            "[579]\tvalidation_0-logloss:0.563256\tvalidation_1-logloss:0.589152\n",
            "[580]\tvalidation_0-logloss:0.563156\tvalidation_1-logloss:0.589073\n",
            "[581]\tvalidation_0-logloss:0.563058\tvalidation_1-logloss:0.589098\n",
            "[582]\tvalidation_0-logloss:0.563004\tvalidation_1-logloss:0.589087\n",
            "[583]\tvalidation_0-logloss:0.562905\tvalidation_1-logloss:0.589105\n",
            "[584]\tvalidation_0-logloss:0.562849\tvalidation_1-logloss:0.589091\n",
            "[585]\tvalidation_0-logloss:0.5628\tvalidation_1-logloss:0.589143\n",
            "[586]\tvalidation_0-logloss:0.562735\tvalidation_1-logloss:0.589169\n",
            "[587]\tvalidation_0-logloss:0.562699\tvalidation_1-logloss:0.589161\n",
            "[588]\tvalidation_0-logloss:0.562608\tvalidation_1-logloss:0.589153\n",
            "[589]\tvalidation_0-logloss:0.562578\tvalidation_1-logloss:0.589149\n",
            "[590]\tvalidation_0-logloss:0.562535\tvalidation_1-logloss:0.589129\n",
            "[591]\tvalidation_0-logloss:0.562487\tvalidation_1-logloss:0.58916\n",
            "[592]\tvalidation_0-logloss:0.562455\tvalidation_1-logloss:0.58914\n",
            "[593]\tvalidation_0-logloss:0.56236\tvalidation_1-logloss:0.589118\n",
            "[594]\tvalidation_0-logloss:0.562298\tvalidation_1-logloss:0.589124\n",
            "[595]\tvalidation_0-logloss:0.562235\tvalidation_1-logloss:0.589096\n",
            "[596]\tvalidation_0-logloss:0.562178\tvalidation_1-logloss:0.589041\n",
            "[597]\tvalidation_0-logloss:0.562073\tvalidation_1-logloss:0.589031\n",
            "[598]\tvalidation_0-logloss:0.561984\tvalidation_1-logloss:0.588963\n",
            "[599]\tvalidation_0-logloss:0.561831\tvalidation_1-logloss:0.58896\n",
            "[600]\tvalidation_0-logloss:0.561783\tvalidation_1-logloss:0.588938\n",
            "[601]\tvalidation_0-logloss:0.56173\tvalidation_1-logloss:0.588978\n",
            "[602]\tvalidation_0-logloss:0.561644\tvalidation_1-logloss:0.588958\n",
            "[603]\tvalidation_0-logloss:0.5616\tvalidation_1-logloss:0.588971\n",
            "[604]\tvalidation_0-logloss:0.561564\tvalidation_1-logloss:0.588986\n",
            "[605]\tvalidation_0-logloss:0.561482\tvalidation_1-logloss:0.588966\n",
            "[606]\tvalidation_0-logloss:0.561376\tvalidation_1-logloss:0.588961\n",
            "[607]\tvalidation_0-logloss:0.561306\tvalidation_1-logloss:0.588915\n",
            "[608]\tvalidation_0-logloss:0.561257\tvalidation_1-logloss:0.588908\n",
            "[609]\tvalidation_0-logloss:0.561185\tvalidation_1-logloss:0.588911\n",
            "[610]\tvalidation_0-logloss:0.561118\tvalidation_1-logloss:0.588903\n",
            "[611]\tvalidation_0-logloss:0.561059\tvalidation_1-logloss:0.588911\n",
            "[612]\tvalidation_0-logloss:0.561003\tvalidation_1-logloss:0.588888\n",
            "[613]\tvalidation_0-logloss:0.56097\tvalidation_1-logloss:0.588885\n",
            "[614]\tvalidation_0-logloss:0.560908\tvalidation_1-logloss:0.588936\n",
            "[615]\tvalidation_0-logloss:0.5608\tvalidation_1-logloss:0.588942\n",
            "[616]\tvalidation_0-logloss:0.560743\tvalidation_1-logloss:0.588906\n",
            "[617]\tvalidation_0-logloss:0.5607\tvalidation_1-logloss:0.588935\n",
            "[618]\tvalidation_0-logloss:0.560584\tvalidation_1-logloss:0.588867\n",
            "[619]\tvalidation_0-logloss:0.560489\tvalidation_1-logloss:0.588875\n",
            "[620]\tvalidation_0-logloss:0.560425\tvalidation_1-logloss:0.588877\n",
            "[621]\tvalidation_0-logloss:0.560284\tvalidation_1-logloss:0.588767\n",
            "[622]\tvalidation_0-logloss:0.560194\tvalidation_1-logloss:0.588824\n",
            "[623]\tvalidation_0-logloss:0.560104\tvalidation_1-logloss:0.588824\n",
            "[624]\tvalidation_0-logloss:0.560042\tvalidation_1-logloss:0.588821\n",
            "[625]\tvalidation_0-logloss:0.560002\tvalidation_1-logloss:0.5888\n",
            "[626]\tvalidation_0-logloss:0.559948\tvalidation_1-logloss:0.588729\n",
            "[627]\tvalidation_0-logloss:0.559902\tvalidation_1-logloss:0.588705\n",
            "[628]\tvalidation_0-logloss:0.559835\tvalidation_1-logloss:0.588706\n",
            "[629]\tvalidation_0-logloss:0.559775\tvalidation_1-logloss:0.588659\n",
            "[630]\tvalidation_0-logloss:0.559771\tvalidation_1-logloss:0.588653\n",
            "[631]\tvalidation_0-logloss:0.559721\tvalidation_1-logloss:0.588625\n",
            "[632]\tvalidation_0-logloss:0.559581\tvalidation_1-logloss:0.588662\n",
            "[633]\tvalidation_0-logloss:0.55948\tvalidation_1-logloss:0.588663\n",
            "[634]\tvalidation_0-logloss:0.559434\tvalidation_1-logloss:0.588674\n",
            "[635]\tvalidation_0-logloss:0.55938\tvalidation_1-logloss:0.588663\n",
            "[636]\tvalidation_0-logloss:0.559295\tvalidation_1-logloss:0.588654\n",
            "[637]\tvalidation_0-logloss:0.559276\tvalidation_1-logloss:0.588624\n",
            "[638]\tvalidation_0-logloss:0.5592\tvalidation_1-logloss:0.588599\n",
            "[639]\tvalidation_0-logloss:0.55914\tvalidation_1-logloss:0.588595\n",
            "[640]\tvalidation_0-logloss:0.559093\tvalidation_1-logloss:0.588621\n",
            "[641]\tvalidation_0-logloss:0.55902\tvalidation_1-logloss:0.588602\n",
            "[642]\tvalidation_0-logloss:0.558906\tvalidation_1-logloss:0.588553\n",
            "[643]\tvalidation_0-logloss:0.558839\tvalidation_1-logloss:0.588537\n",
            "[644]\tvalidation_0-logloss:0.558763\tvalidation_1-logloss:0.588535\n",
            "[645]\tvalidation_0-logloss:0.558665\tvalidation_1-logloss:0.588547\n",
            "[646]\tvalidation_0-logloss:0.558578\tvalidation_1-logloss:0.58853\n",
            "[647]\tvalidation_0-logloss:0.558508\tvalidation_1-logloss:0.58853\n",
            "[648]\tvalidation_0-logloss:0.558507\tvalidation_1-logloss:0.588529\n",
            "[649]\tvalidation_0-logloss:0.558425\tvalidation_1-logloss:0.588473\n",
            "[650]\tvalidation_0-logloss:0.558347\tvalidation_1-logloss:0.588446\n",
            "[651]\tvalidation_0-logloss:0.558251\tvalidation_1-logloss:0.58847\n",
            "[652]\tvalidation_0-logloss:0.558208\tvalidation_1-logloss:0.588471\n",
            "[653]\tvalidation_0-logloss:0.558137\tvalidation_1-logloss:0.588519\n",
            "[654]\tvalidation_0-logloss:0.558089\tvalidation_1-logloss:0.588513\n",
            "[655]\tvalidation_0-logloss:0.558033\tvalidation_1-logloss:0.588495\n",
            "[656]\tvalidation_0-logloss:0.557993\tvalidation_1-logloss:0.588523\n",
            "[657]\tvalidation_0-logloss:0.55789\tvalidation_1-logloss:0.588531\n",
            "[658]\tvalidation_0-logloss:0.557835\tvalidation_1-logloss:0.588503\n",
            "[659]\tvalidation_0-logloss:0.557796\tvalidation_1-logloss:0.588476\n",
            "[660]\tvalidation_0-logloss:0.557731\tvalidation_1-logloss:0.588519\n",
            "[661]\tvalidation_0-logloss:0.557729\tvalidation_1-logloss:0.588515\n",
            "[662]\tvalidation_0-logloss:0.55764\tvalidation_1-logloss:0.588516\n",
            "[663]\tvalidation_0-logloss:0.557546\tvalidation_1-logloss:0.588466\n",
            "[664]\tvalidation_0-logloss:0.557404\tvalidation_1-logloss:0.588503\n",
            "[665]\tvalidation_0-logloss:0.55727\tvalidation_1-logloss:0.588454\n",
            "[666]\tvalidation_0-logloss:0.557193\tvalidation_1-logloss:0.588415\n",
            "[667]\tvalidation_0-logloss:0.557191\tvalidation_1-logloss:0.588413\n",
            "[668]\tvalidation_0-logloss:0.557106\tvalidation_1-logloss:0.588385\n",
            "[669]\tvalidation_0-logloss:0.557035\tvalidation_1-logloss:0.58832\n",
            "[670]\tvalidation_0-logloss:0.556985\tvalidation_1-logloss:0.588295\n",
            "[671]\tvalidation_0-logloss:0.556914\tvalidation_1-logloss:0.588253\n",
            "[672]\tvalidation_0-logloss:0.556844\tvalidation_1-logloss:0.588218\n",
            "[673]\tvalidation_0-logloss:0.556772\tvalidation_1-logloss:0.588267\n",
            "[674]\tvalidation_0-logloss:0.556732\tvalidation_1-logloss:0.58826\n",
            "[675]\tvalidation_0-logloss:0.556661\tvalidation_1-logloss:0.588308\n",
            "[676]\tvalidation_0-logloss:0.556589\tvalidation_1-logloss:0.588269\n",
            "[677]\tvalidation_0-logloss:0.556498\tvalidation_1-logloss:0.588277\n",
            "[678]\tvalidation_0-logloss:0.556447\tvalidation_1-logloss:0.588253\n",
            "[679]\tvalidation_0-logloss:0.55639\tvalidation_1-logloss:0.588231\n",
            "[680]\tvalidation_0-logloss:0.556324\tvalidation_1-logloss:0.588258\n",
            "[681]\tvalidation_0-logloss:0.556268\tvalidation_1-logloss:0.588244\n",
            "[682]\tvalidation_0-logloss:0.556166\tvalidation_1-logloss:0.588244\n",
            "[683]\tvalidation_0-logloss:0.556149\tvalidation_1-logloss:0.588237\n",
            "[684]\tvalidation_0-logloss:0.556101\tvalidation_1-logloss:0.588196\n",
            "[685]\tvalidation_0-logloss:0.556098\tvalidation_1-logloss:0.588191\n",
            "[686]\tvalidation_0-logloss:0.556028\tvalidation_1-logloss:0.588186\n",
            "[687]\tvalidation_0-logloss:0.555955\tvalidation_1-logloss:0.588112\n",
            "[688]\tvalidation_0-logloss:0.555909\tvalidation_1-logloss:0.588111\n",
            "[689]\tvalidation_0-logloss:0.555834\tvalidation_1-logloss:0.588081\n",
            "[690]\tvalidation_0-logloss:0.555813\tvalidation_1-logloss:0.588071\n",
            "[691]\tvalidation_0-logloss:0.555771\tvalidation_1-logloss:0.588085\n",
            "[692]\tvalidation_0-logloss:0.55577\tvalidation_1-logloss:0.588084\n",
            "[693]\tvalidation_0-logloss:0.555735\tvalidation_1-logloss:0.588072\n",
            "[694]\tvalidation_0-logloss:0.555684\tvalidation_1-logloss:0.588038\n",
            "[695]\tvalidation_0-logloss:0.555592\tvalidation_1-logloss:0.588051\n",
            "[696]\tvalidation_0-logloss:0.555476\tvalidation_1-logloss:0.588087\n",
            "[697]\tvalidation_0-logloss:0.555447\tvalidation_1-logloss:0.588077\n",
            "[698]\tvalidation_0-logloss:0.555398\tvalidation_1-logloss:0.588059\n",
            "[699]\tvalidation_0-logloss:0.555343\tvalidation_1-logloss:0.588049\n",
            "[700]\tvalidation_0-logloss:0.555343\tvalidation_1-logloss:0.588049\n",
            "[701]\tvalidation_0-logloss:0.555242\tvalidation_1-logloss:0.587997\n",
            "[702]\tvalidation_0-logloss:0.555241\tvalidation_1-logloss:0.587996\n",
            "[703]\tvalidation_0-logloss:0.555195\tvalidation_1-logloss:0.587975\n",
            "[704]\tvalidation_0-logloss:0.555106\tvalidation_1-logloss:0.587971\n",
            "[705]\tvalidation_0-logloss:0.55504\tvalidation_1-logloss:0.587962\n",
            "[706]\tvalidation_0-logloss:0.554957\tvalidation_1-logloss:0.587993\n",
            "[707]\tvalidation_0-logloss:0.554904\tvalidation_1-logloss:0.587924\n",
            "[708]\tvalidation_0-logloss:0.554844\tvalidation_1-logloss:0.587936\n",
            "[709]\tvalidation_0-logloss:0.554802\tvalidation_1-logloss:0.587946\n",
            "[710]\tvalidation_0-logloss:0.554732\tvalidation_1-logloss:0.587904\n",
            "[711]\tvalidation_0-logloss:0.554663\tvalidation_1-logloss:0.587891\n",
            "[712]\tvalidation_0-logloss:0.554574\tvalidation_1-logloss:0.587881\n",
            "[713]\tvalidation_0-logloss:0.554506\tvalidation_1-logloss:0.587905\n",
            "[714]\tvalidation_0-logloss:0.554421\tvalidation_1-logloss:0.587839\n",
            "[715]\tvalidation_0-logloss:0.554375\tvalidation_1-logloss:0.587818\n",
            "[716]\tvalidation_0-logloss:0.554375\tvalidation_1-logloss:0.587818\n",
            "[717]\tvalidation_0-logloss:0.554334\tvalidation_1-logloss:0.587787\n",
            "[718]\tvalidation_0-logloss:0.554307\tvalidation_1-logloss:0.587778\n",
            "[719]\tvalidation_0-logloss:0.55428\tvalidation_1-logloss:0.587787\n",
            "[720]\tvalidation_0-logloss:0.554186\tvalidation_1-logloss:0.587769\n",
            "[721]\tvalidation_0-logloss:0.554128\tvalidation_1-logloss:0.587769\n",
            "[722]\tvalidation_0-logloss:0.554087\tvalidation_1-logloss:0.587765\n",
            "[723]\tvalidation_0-logloss:0.553994\tvalidation_1-logloss:0.587788\n",
            "[724]\tvalidation_0-logloss:0.553966\tvalidation_1-logloss:0.587774\n",
            "[725]\tvalidation_0-logloss:0.553925\tvalidation_1-logloss:0.587773\n",
            "[726]\tvalidation_0-logloss:0.553877\tvalidation_1-logloss:0.587766\n",
            "[727]\tvalidation_0-logloss:0.55383\tvalidation_1-logloss:0.587761\n",
            "[728]\tvalidation_0-logloss:0.553798\tvalidation_1-logloss:0.5878\n",
            "[729]\tvalidation_0-logloss:0.553732\tvalidation_1-logloss:0.587811\n",
            "[730]\tvalidation_0-logloss:0.553671\tvalidation_1-logloss:0.587778\n",
            "[731]\tvalidation_0-logloss:0.553559\tvalidation_1-logloss:0.587724\n",
            "[732]\tvalidation_0-logloss:0.553496\tvalidation_1-logloss:0.587775\n",
            "[733]\tvalidation_0-logloss:0.553385\tvalidation_1-logloss:0.587822\n",
            "[734]\tvalidation_0-logloss:0.55333\tvalidation_1-logloss:0.587797\n",
            "[735]\tvalidation_0-logloss:0.553296\tvalidation_1-logloss:0.587762\n",
            "[736]\tvalidation_0-logloss:0.553264\tvalidation_1-logloss:0.587741\n",
            "[737]\tvalidation_0-logloss:0.553263\tvalidation_1-logloss:0.587741\n",
            "[738]\tvalidation_0-logloss:0.553222\tvalidation_1-logloss:0.587732\n",
            "[739]\tvalidation_0-logloss:0.55317\tvalidation_1-logloss:0.587735\n",
            "[740]\tvalidation_0-logloss:0.553095\tvalidation_1-logloss:0.587743\n",
            "[741]\tvalidation_0-logloss:0.553027\tvalidation_1-logloss:0.587716\n",
            "[742]\tvalidation_0-logloss:0.55301\tvalidation_1-logloss:0.587707\n",
            "[743]\tvalidation_0-logloss:0.552965\tvalidation_1-logloss:0.587687\n",
            "[744]\tvalidation_0-logloss:0.552931\tvalidation_1-logloss:0.587685\n",
            "[745]\tvalidation_0-logloss:0.55293\tvalidation_1-logloss:0.587683\n",
            "[746]\tvalidation_0-logloss:0.552826\tvalidation_1-logloss:0.587684\n",
            "[747]\tvalidation_0-logloss:0.552807\tvalidation_1-logloss:0.587678\n",
            "[748]\tvalidation_0-logloss:0.552747\tvalidation_1-logloss:0.587676\n",
            "[749]\tvalidation_0-logloss:0.552681\tvalidation_1-logloss:0.587614\n",
            "[750]\tvalidation_0-logloss:0.552624\tvalidation_1-logloss:0.587573\n",
            "[751]\tvalidation_0-logloss:0.55255\tvalidation_1-logloss:0.587572\n",
            "[752]\tvalidation_0-logloss:0.552502\tvalidation_1-logloss:0.587552\n",
            "[753]\tvalidation_0-logloss:0.552429\tvalidation_1-logloss:0.587521\n",
            "[754]\tvalidation_0-logloss:0.552335\tvalidation_1-logloss:0.587536\n",
            "[755]\tvalidation_0-logloss:0.552307\tvalidation_1-logloss:0.587518\n",
            "[756]\tvalidation_0-logloss:0.552267\tvalidation_1-logloss:0.587468\n",
            "[757]\tvalidation_0-logloss:0.552185\tvalidation_1-logloss:0.587434\n",
            "[758]\tvalidation_0-logloss:0.552133\tvalidation_1-logloss:0.587466\n",
            "[759]\tvalidation_0-logloss:0.552077\tvalidation_1-logloss:0.587424\n",
            "[760]\tvalidation_0-logloss:0.552057\tvalidation_1-logloss:0.587393\n",
            "[761]\tvalidation_0-logloss:0.552055\tvalidation_1-logloss:0.587389\n",
            "[762]\tvalidation_0-logloss:0.551968\tvalidation_1-logloss:0.587421\n",
            "[763]\tvalidation_0-logloss:0.551957\tvalidation_1-logloss:0.587411\n",
            "[764]\tvalidation_0-logloss:0.551898\tvalidation_1-logloss:0.587392\n",
            "[765]\tvalidation_0-logloss:0.551854\tvalidation_1-logloss:0.587396\n",
            "[766]\tvalidation_0-logloss:0.551817\tvalidation_1-logloss:0.587394\n",
            "[767]\tvalidation_0-logloss:0.55177\tvalidation_1-logloss:0.587376\n",
            "[768]\tvalidation_0-logloss:0.551769\tvalidation_1-logloss:0.587375\n",
            "[769]\tvalidation_0-logloss:0.551716\tvalidation_1-logloss:0.587343\n",
            "[770]\tvalidation_0-logloss:0.551627\tvalidation_1-logloss:0.587306\n",
            "[771]\tvalidation_0-logloss:0.551578\tvalidation_1-logloss:0.587291\n",
            "[772]\tvalidation_0-logloss:0.551557\tvalidation_1-logloss:0.587301\n",
            "[773]\tvalidation_0-logloss:0.551499\tvalidation_1-logloss:0.587322\n",
            "[774]\tvalidation_0-logloss:0.551392\tvalidation_1-logloss:0.587303\n",
            "[775]\tvalidation_0-logloss:0.551326\tvalidation_1-logloss:0.587323\n",
            "[776]\tvalidation_0-logloss:0.551273\tvalidation_1-logloss:0.587372\n",
            "[777]\tvalidation_0-logloss:0.55112\tvalidation_1-logloss:0.58734\n",
            "[778]\tvalidation_0-logloss:0.551042\tvalidation_1-logloss:0.587356\n",
            "[779]\tvalidation_0-logloss:0.550988\tvalidation_1-logloss:0.587372\n",
            "[780]\tvalidation_0-logloss:0.550962\tvalidation_1-logloss:0.587379\n",
            "[781]\tvalidation_0-logloss:0.550961\tvalidation_1-logloss:0.587379\n",
            "[782]\tvalidation_0-logloss:0.550852\tvalidation_1-logloss:0.587438\n",
            "[783]\tvalidation_0-logloss:0.550784\tvalidation_1-logloss:0.587414\n",
            "[784]\tvalidation_0-logloss:0.550783\tvalidation_1-logloss:0.587411\n",
            "[785]\tvalidation_0-logloss:0.550697\tvalidation_1-logloss:0.58743\n",
            "[786]\tvalidation_0-logloss:0.550659\tvalidation_1-logloss:0.587422\n",
            "[787]\tvalidation_0-logloss:0.55061\tvalidation_1-logloss:0.587454\n",
            "[788]\tvalidation_0-logloss:0.550523\tvalidation_1-logloss:0.587501\n",
            "[789]\tvalidation_0-logloss:0.550475\tvalidation_1-logloss:0.587478\n",
            "[790]\tvalidation_0-logloss:0.550425\tvalidation_1-logloss:0.587494\n",
            "[791]\tvalidation_0-logloss:0.550371\tvalidation_1-logloss:0.587493\n",
            "[792]\tvalidation_0-logloss:0.550368\tvalidation_1-logloss:0.58749\n",
            "[793]\tvalidation_0-logloss:0.550332\tvalidation_1-logloss:0.587489\n",
            "[794]\tvalidation_0-logloss:0.550249\tvalidation_1-logloss:0.587515\n",
            "[795]\tvalidation_0-logloss:0.550232\tvalidation_1-logloss:0.587504\n",
            "[796]\tvalidation_0-logloss:0.55016\tvalidation_1-logloss:0.587475\n",
            "[797]\tvalidation_0-logloss:0.550134\tvalidation_1-logloss:0.587464\n",
            "[798]\tvalidation_0-logloss:0.550087\tvalidation_1-logloss:0.58748\n",
            "[799]\tvalidation_0-logloss:0.550069\tvalidation_1-logloss:0.587487\n",
            "[800]\tvalidation_0-logloss:0.549987\tvalidation_1-logloss:0.587493\n",
            "[801]\tvalidation_0-logloss:0.549927\tvalidation_1-logloss:0.587506\n",
            "[802]\tvalidation_0-logloss:0.549892\tvalidation_1-logloss:0.587513\n",
            "[803]\tvalidation_0-logloss:0.549828\tvalidation_1-logloss:0.587488\n",
            "[804]\tvalidation_0-logloss:0.549798\tvalidation_1-logloss:0.587479\n",
            "[805]\tvalidation_0-logloss:0.549657\tvalidation_1-logloss:0.587475\n",
            "[806]\tvalidation_0-logloss:0.549593\tvalidation_1-logloss:0.587464\n",
            "[807]\tvalidation_0-logloss:0.549569\tvalidation_1-logloss:0.587434\n",
            "[808]\tvalidation_0-logloss:0.549536\tvalidation_1-logloss:0.587384\n",
            "[809]\tvalidation_0-logloss:0.549536\tvalidation_1-logloss:0.587382\n",
            "[810]\tvalidation_0-logloss:0.549535\tvalidation_1-logloss:0.58738\n",
            "[811]\tvalidation_0-logloss:0.549414\tvalidation_1-logloss:0.587364\n",
            "[812]\tvalidation_0-logloss:0.549335\tvalidation_1-logloss:0.587384\n",
            "[813]\tvalidation_0-logloss:0.549277\tvalidation_1-logloss:0.587372\n",
            "[814]\tvalidation_0-logloss:0.549275\tvalidation_1-logloss:0.587369\n",
            "[815]\tvalidation_0-logloss:0.549202\tvalidation_1-logloss:0.587394\n",
            "[816]\tvalidation_0-logloss:0.549151\tvalidation_1-logloss:0.587372\n",
            "[817]\tvalidation_0-logloss:0.549123\tvalidation_1-logloss:0.587395\n",
            "[818]\tvalidation_0-logloss:0.549067\tvalidation_1-logloss:0.587387\n",
            "[819]\tvalidation_0-logloss:0.54904\tvalidation_1-logloss:0.587367\n",
            "[820]\tvalidation_0-logloss:0.549009\tvalidation_1-logloss:0.587412\n",
            "[821]\tvalidation_0-logloss:0.548982\tvalidation_1-logloss:0.587381\n",
            "[822]\tvalidation_0-logloss:0.548964\tvalidation_1-logloss:0.587372\n",
            "[823]\tvalidation_0-logloss:0.548964\tvalidation_1-logloss:0.587372\n",
            "[824]\tvalidation_0-logloss:0.548873\tvalidation_1-logloss:0.58735\n",
            "[825]\tvalidation_0-logloss:0.548855\tvalidation_1-logloss:0.587358\n",
            "[826]\tvalidation_0-logloss:0.54878\tvalidation_1-logloss:0.587392\n",
            "[827]\tvalidation_0-logloss:0.54878\tvalidation_1-logloss:0.587392\n",
            "[828]\tvalidation_0-logloss:0.548716\tvalidation_1-logloss:0.587384\n",
            "[829]\tvalidation_0-logloss:0.548677\tvalidation_1-logloss:0.587393\n",
            "[830]\tvalidation_0-logloss:0.548677\tvalidation_1-logloss:0.58739\n",
            "[831]\tvalidation_0-logloss:0.548626\tvalidation_1-logloss:0.587401\n",
            "[832]\tvalidation_0-logloss:0.548585\tvalidation_1-logloss:0.587389\n",
            "[833]\tvalidation_0-logloss:0.548507\tvalidation_1-logloss:0.587343\n",
            "[834]\tvalidation_0-logloss:0.548461\tvalidation_1-logloss:0.587295\n",
            "[835]\tvalidation_0-logloss:0.548398\tvalidation_1-logloss:0.587284\n",
            "[836]\tvalidation_0-logloss:0.548351\tvalidation_1-logloss:0.587335\n",
            "[837]\tvalidation_0-logloss:0.548287\tvalidation_1-logloss:0.587363\n",
            "[838]\tvalidation_0-logloss:0.548257\tvalidation_1-logloss:0.587337\n",
            "[839]\tvalidation_0-logloss:0.548255\tvalidation_1-logloss:0.587335\n",
            "[840]\tvalidation_0-logloss:0.548225\tvalidation_1-logloss:0.587329\n",
            "[841]\tvalidation_0-logloss:0.54818\tvalidation_1-logloss:0.587345\n",
            "[842]\tvalidation_0-logloss:0.548092\tvalidation_1-logloss:0.587289\n",
            "[843]\tvalidation_0-logloss:0.54804\tvalidation_1-logloss:0.587267\n",
            "[844]\tvalidation_0-logloss:0.54799\tvalidation_1-logloss:0.587293\n",
            "[845]\tvalidation_0-logloss:0.547953\tvalidation_1-logloss:0.587285\n",
            "[846]\tvalidation_0-logloss:0.547917\tvalidation_1-logloss:0.587272\n",
            "[847]\tvalidation_0-logloss:0.547916\tvalidation_1-logloss:0.58727\n",
            "[848]\tvalidation_0-logloss:0.547848\tvalidation_1-logloss:0.587288\n",
            "[849]\tvalidation_0-logloss:0.547848\tvalidation_1-logloss:0.587287\n",
            "[850]\tvalidation_0-logloss:0.547805\tvalidation_1-logloss:0.587257\n",
            "[851]\tvalidation_0-logloss:0.547757\tvalidation_1-logloss:0.587245\n",
            "[852]\tvalidation_0-logloss:0.547658\tvalidation_1-logloss:0.587264\n",
            "[853]\tvalidation_0-logloss:0.547633\tvalidation_1-logloss:0.587273\n",
            "[854]\tvalidation_0-logloss:0.54757\tvalidation_1-logloss:0.58728\n",
            "[855]\tvalidation_0-logloss:0.54757\tvalidation_1-logloss:0.58728\n",
            "[856]\tvalidation_0-logloss:0.547568\tvalidation_1-logloss:0.587276\n",
            "[857]\tvalidation_0-logloss:0.547528\tvalidation_1-logloss:0.587248\n",
            "[858]\tvalidation_0-logloss:0.547462\tvalidation_1-logloss:0.587207\n",
            "[859]\tvalidation_0-logloss:0.547381\tvalidation_1-logloss:0.587182\n",
            "[860]\tvalidation_0-logloss:0.54738\tvalidation_1-logloss:0.58718\n",
            "[861]\tvalidation_0-logloss:0.547335\tvalidation_1-logloss:0.587131\n",
            "[862]\tvalidation_0-logloss:0.547284\tvalidation_1-logloss:0.587123\n",
            "[863]\tvalidation_0-logloss:0.547267\tvalidation_1-logloss:0.587125\n",
            "[864]\tvalidation_0-logloss:0.547225\tvalidation_1-logloss:0.587134\n",
            "[865]\tvalidation_0-logloss:0.547193\tvalidation_1-logloss:0.58718\n",
            "[866]\tvalidation_0-logloss:0.547129\tvalidation_1-logloss:0.587196\n",
            "[867]\tvalidation_0-logloss:0.547084\tvalidation_1-logloss:0.587166\n",
            "[868]\tvalidation_0-logloss:0.54701\tvalidation_1-logloss:0.587172\n",
            "[869]\tvalidation_0-logloss:0.547009\tvalidation_1-logloss:0.58717\n",
            "[870]\tvalidation_0-logloss:0.54691\tvalidation_1-logloss:0.587159\n",
            "[871]\tvalidation_0-logloss:0.546853\tvalidation_1-logloss:0.58713\n",
            "[872]\tvalidation_0-logloss:0.546808\tvalidation_1-logloss:0.587103\n",
            "[873]\tvalidation_0-logloss:0.546739\tvalidation_1-logloss:0.587111\n",
            "[874]\tvalidation_0-logloss:0.546676\tvalidation_1-logloss:0.587071\n",
            "[875]\tvalidation_0-logloss:0.546652\tvalidation_1-logloss:0.587083\n",
            "[876]\tvalidation_0-logloss:0.546612\tvalidation_1-logloss:0.587092\n",
            "[877]\tvalidation_0-logloss:0.546611\tvalidation_1-logloss:0.58709\n",
            "[878]\tvalidation_0-logloss:0.546536\tvalidation_1-logloss:0.587047\n",
            "[879]\tvalidation_0-logloss:0.546472\tvalidation_1-logloss:0.587037\n",
            "[880]\tvalidation_0-logloss:0.546391\tvalidation_1-logloss:0.587013\n",
            "[881]\tvalidation_0-logloss:0.546362\tvalidation_1-logloss:0.586993\n",
            "[882]\tvalidation_0-logloss:0.546293\tvalidation_1-logloss:0.58698\n",
            "[883]\tvalidation_0-logloss:0.546223\tvalidation_1-logloss:0.58697\n",
            "[884]\tvalidation_0-logloss:0.546176\tvalidation_1-logloss:0.586984\n",
            "[885]\tvalidation_0-logloss:0.546123\tvalidation_1-logloss:0.586951\n",
            "[886]\tvalidation_0-logloss:0.546077\tvalidation_1-logloss:0.586945\n",
            "[887]\tvalidation_0-logloss:0.546076\tvalidation_1-logloss:0.586943\n",
            "[888]\tvalidation_0-logloss:0.546076\tvalidation_1-logloss:0.586943\n",
            "[889]\tvalidation_0-logloss:0.546014\tvalidation_1-logloss:0.586935\n",
            "[890]\tvalidation_0-logloss:0.545934\tvalidation_1-logloss:0.586982\n",
            "[891]\tvalidation_0-logloss:0.545918\tvalidation_1-logloss:0.586989\n",
            "[892]\tvalidation_0-logloss:0.545859\tvalidation_1-logloss:0.586978\n",
            "[893]\tvalidation_0-logloss:0.54582\tvalidation_1-logloss:0.587004\n",
            "[894]\tvalidation_0-logloss:0.545754\tvalidation_1-logloss:0.586998\n",
            "[895]\tvalidation_0-logloss:0.545712\tvalidation_1-logloss:0.586972\n",
            "[896]\tvalidation_0-logloss:0.545657\tvalidation_1-logloss:0.586989\n",
            "[897]\tvalidation_0-logloss:0.545631\tvalidation_1-logloss:0.586983\n",
            "[898]\tvalidation_0-logloss:0.545563\tvalidation_1-logloss:0.586985\n",
            "[899]\tvalidation_0-logloss:0.545522\tvalidation_1-logloss:0.587033\n",
            "[900]\tvalidation_0-logloss:0.545492\tvalidation_1-logloss:0.587012\n",
            "[901]\tvalidation_0-logloss:0.5454\tvalidation_1-logloss:0.586996\n",
            "[902]\tvalidation_0-logloss:0.5454\tvalidation_1-logloss:0.586996\n",
            "[903]\tvalidation_0-logloss:0.54535\tvalidation_1-logloss:0.586991\n",
            "[904]\tvalidation_0-logloss:0.545282\tvalidation_1-logloss:0.586957\n",
            "[905]\tvalidation_0-logloss:0.545258\tvalidation_1-logloss:0.586967\n",
            "[906]\tvalidation_0-logloss:0.545209\tvalidation_1-logloss:0.586976\n",
            "[907]\tvalidation_0-logloss:0.545185\tvalidation_1-logloss:0.586961\n",
            "[908]\tvalidation_0-logloss:0.545155\tvalidation_1-logloss:0.586957\n",
            "[909]\tvalidation_0-logloss:0.545092\tvalidation_1-logloss:0.58696\n",
            "[910]\tvalidation_0-logloss:0.545059\tvalidation_1-logloss:0.586954\n",
            "[911]\tvalidation_0-logloss:0.544986\tvalidation_1-logloss:0.586999\n",
            "[912]\tvalidation_0-logloss:0.544984\tvalidation_1-logloss:0.586996\n",
            "[913]\tvalidation_0-logloss:0.544984\tvalidation_1-logloss:0.586996\n",
            "[914]\tvalidation_0-logloss:0.544984\tvalidation_1-logloss:0.586996\n",
            "[915]\tvalidation_0-logloss:0.544984\tvalidation_1-logloss:0.586996\n",
            "[916]\tvalidation_0-logloss:0.544963\tvalidation_1-logloss:0.586976\n",
            "[917]\tvalidation_0-logloss:0.544922\tvalidation_1-logloss:0.586981\n",
            "[918]\tvalidation_0-logloss:0.54489\tvalidation_1-logloss:0.586974\n",
            "[919]\tvalidation_0-logloss:0.544866\tvalidation_1-logloss:0.586954\n",
            "[920]\tvalidation_0-logloss:0.544842\tvalidation_1-logloss:0.58696\n",
            "[921]\tvalidation_0-logloss:0.544842\tvalidation_1-logloss:0.586959\n",
            "[922]\tvalidation_0-logloss:0.544814\tvalidation_1-logloss:0.586952\n",
            "[923]\tvalidation_0-logloss:0.544754\tvalidation_1-logloss:0.586953\n",
            "[924]\tvalidation_0-logloss:0.544727\tvalidation_1-logloss:0.586947\n",
            "[925]\tvalidation_0-logloss:0.544679\tvalidation_1-logloss:0.586919\n",
            "[926]\tvalidation_0-logloss:0.544606\tvalidation_1-logloss:0.586953\n",
            "[927]\tvalidation_0-logloss:0.544551\tvalidation_1-logloss:0.586934\n",
            "[928]\tvalidation_0-logloss:0.544551\tvalidation_1-logloss:0.586934\n",
            "[929]\tvalidation_0-logloss:0.544474\tvalidation_1-logloss:0.586979\n",
            "[930]\tvalidation_0-logloss:0.544422\tvalidation_1-logloss:0.58696\n",
            "[931]\tvalidation_0-logloss:0.544355\tvalidation_1-logloss:0.586967\n",
            "[932]\tvalidation_0-logloss:0.544332\tvalidation_1-logloss:0.586964\n",
            "[933]\tvalidation_0-logloss:0.544301\tvalidation_1-logloss:0.586988\n",
            "[934]\tvalidation_0-logloss:0.544233\tvalidation_1-logloss:0.586976\n",
            "[935]\tvalidation_0-logloss:0.544178\tvalidation_1-logloss:0.586962\n",
            "[936]\tvalidation_0-logloss:0.544082\tvalidation_1-logloss:0.586955\n",
            "[937]\tvalidation_0-logloss:0.543998\tvalidation_1-logloss:0.586968\n",
            "[938]\tvalidation_0-logloss:0.543998\tvalidation_1-logloss:0.586967\n",
            "[939]\tvalidation_0-logloss:0.543937\tvalidation_1-logloss:0.586941\n",
            "[940]\tvalidation_0-logloss:0.543914\tvalidation_1-logloss:0.586919\n",
            "[941]\tvalidation_0-logloss:0.543912\tvalidation_1-logloss:0.586918\n",
            "[942]\tvalidation_0-logloss:0.543867\tvalidation_1-logloss:0.586926\n",
            "[943]\tvalidation_0-logloss:0.543867\tvalidation_1-logloss:0.586926\n",
            "[944]\tvalidation_0-logloss:0.543734\tvalidation_1-logloss:0.586919\n",
            "[945]\tvalidation_0-logloss:0.543692\tvalidation_1-logloss:0.586901\n",
            "[946]\tvalidation_0-logloss:0.543692\tvalidation_1-logloss:0.586901\n",
            "[947]\tvalidation_0-logloss:0.54365\tvalidation_1-logloss:0.586923\n",
            "[948]\tvalidation_0-logloss:0.543615\tvalidation_1-logloss:0.586894\n",
            "[949]\tvalidation_0-logloss:0.543528\tvalidation_1-logloss:0.586925\n",
            "[950]\tvalidation_0-logloss:0.543488\tvalidation_1-logloss:0.586924\n",
            "[951]\tvalidation_0-logloss:0.543488\tvalidation_1-logloss:0.586924\n",
            "[952]\tvalidation_0-logloss:0.543462\tvalidation_1-logloss:0.586903\n",
            "[953]\tvalidation_0-logloss:0.543376\tvalidation_1-logloss:0.586855\n",
            "[954]\tvalidation_0-logloss:0.543376\tvalidation_1-logloss:0.586855\n",
            "[955]\tvalidation_0-logloss:0.543324\tvalidation_1-logloss:0.586841\n",
            "[956]\tvalidation_0-logloss:0.543254\tvalidation_1-logloss:0.586835\n",
            "[957]\tvalidation_0-logloss:0.543207\tvalidation_1-logloss:0.586844\n",
            "[958]\tvalidation_0-logloss:0.543169\tvalidation_1-logloss:0.586842\n",
            "[959]\tvalidation_0-logloss:0.543153\tvalidation_1-logloss:0.586831\n",
            "[960]\tvalidation_0-logloss:0.543128\tvalidation_1-logloss:0.586845\n",
            "[961]\tvalidation_0-logloss:0.543046\tvalidation_1-logloss:0.586822\n",
            "[962]\tvalidation_0-logloss:0.543018\tvalidation_1-logloss:0.586814\n",
            "[963]\tvalidation_0-logloss:0.542972\tvalidation_1-logloss:0.586834\n",
            "[964]\tvalidation_0-logloss:0.542898\tvalidation_1-logloss:0.586832\n",
            "[965]\tvalidation_0-logloss:0.542868\tvalidation_1-logloss:0.586845\n",
            "[966]\tvalidation_0-logloss:0.542793\tvalidation_1-logloss:0.586848\n",
            "[967]\tvalidation_0-logloss:0.542791\tvalidation_1-logloss:0.586846\n",
            "[968]\tvalidation_0-logloss:0.542719\tvalidation_1-logloss:0.586858\n",
            "[969]\tvalidation_0-logloss:0.542671\tvalidation_1-logloss:0.586856\n",
            "[970]\tvalidation_0-logloss:0.542656\tvalidation_1-logloss:0.586861\n",
            "[971]\tvalidation_0-logloss:0.542604\tvalidation_1-logloss:0.586888\n",
            "[972]\tvalidation_0-logloss:0.542577\tvalidation_1-logloss:0.586898\n",
            "[973]\tvalidation_0-logloss:0.542529\tvalidation_1-logloss:0.58689\n",
            "[974]\tvalidation_0-logloss:0.542455\tvalidation_1-logloss:0.586943\n",
            "[975]\tvalidation_0-logloss:0.542408\tvalidation_1-logloss:0.586966\n",
            "[976]\tvalidation_0-logloss:0.542354\tvalidation_1-logloss:0.587023\n",
            "[977]\tvalidation_0-logloss:0.542295\tvalidation_1-logloss:0.587033\n",
            "[978]\tvalidation_0-logloss:0.542258\tvalidation_1-logloss:0.587029\n",
            "[979]\tvalidation_0-logloss:0.542256\tvalidation_1-logloss:0.587026\n",
            "[980]\tvalidation_0-logloss:0.542193\tvalidation_1-logloss:0.587054\n",
            "[981]\tvalidation_0-logloss:0.542193\tvalidation_1-logloss:0.587054\n",
            "[982]\tvalidation_0-logloss:0.542193\tvalidation_1-logloss:0.587053\n",
            "[983]\tvalidation_0-logloss:0.542112\tvalidation_1-logloss:0.587081\n",
            "[984]\tvalidation_0-logloss:0.542069\tvalidation_1-logloss:0.587077\n",
            "[985]\tvalidation_0-logloss:0.542029\tvalidation_1-logloss:0.587058\n",
            "[986]\tvalidation_0-logloss:0.542029\tvalidation_1-logloss:0.587058\n",
            "[987]\tvalidation_0-logloss:0.542028\tvalidation_1-logloss:0.587058\n",
            "[988]\tvalidation_0-logloss:0.542028\tvalidation_1-logloss:0.587058\n",
            "[989]\tvalidation_0-logloss:0.542028\tvalidation_1-logloss:0.587058\n",
            "[990]\tvalidation_0-logloss:0.542028\tvalidation_1-logloss:0.587058\n",
            "[991]\tvalidation_0-logloss:0.541958\tvalidation_1-logloss:0.587041\n",
            "[992]\tvalidation_0-logloss:0.541935\tvalidation_1-logloss:0.587023\n",
            "[993]\tvalidation_0-logloss:0.541895\tvalidation_1-logloss:0.587028\n",
            "[994]\tvalidation_0-logloss:0.541801\tvalidation_1-logloss:0.587009\n",
            "[995]\tvalidation_0-logloss:0.541761\tvalidation_1-logloss:0.587021\n",
            "[996]\tvalidation_0-logloss:0.54176\tvalidation_1-logloss:0.58702\n",
            "[997]\tvalidation_0-logloss:0.541674\tvalidation_1-logloss:0.587028\n",
            "[998]\tvalidation_0-logloss:0.54165\tvalidation_1-logloss:0.586993\n",
            "[999]\tvalidation_0-logloss:0.541629\tvalidation_1-logloss:0.586962\n",
            "[1000]\tvalidation_0-logloss:0.541573\tvalidation_1-logloss:0.586964\n",
            "[1001]\tvalidation_0-logloss:0.541515\tvalidation_1-logloss:0.58695\n",
            "[1002]\tvalidation_0-logloss:0.54147\tvalidation_1-logloss:0.586995\n",
            "[1003]\tvalidation_0-logloss:0.541416\tvalidation_1-logloss:0.586964\n",
            "[1004]\tvalidation_0-logloss:0.541372\tvalidation_1-logloss:0.586961\n",
            "[1005]\tvalidation_0-logloss:0.541372\tvalidation_1-logloss:0.586961\n",
            "[1006]\tvalidation_0-logloss:0.541371\tvalidation_1-logloss:0.58696\n",
            "[1007]\tvalidation_0-logloss:0.541356\tvalidation_1-logloss:0.586958\n",
            "[1008]\tvalidation_0-logloss:0.541269\tvalidation_1-logloss:0.586962\n",
            "[1009]\tvalidation_0-logloss:0.541268\tvalidation_1-logloss:0.58696\n",
            "[1010]\tvalidation_0-logloss:0.541189\tvalidation_1-logloss:0.586983\n",
            "[1011]\tvalidation_0-logloss:0.541109\tvalidation_1-logloss:0.587\n",
            "[1012]\tvalidation_0-logloss:0.541063\tvalidation_1-logloss:0.587003\n",
            "[1013]\tvalidation_0-logloss:0.541062\tvalidation_1-logloss:0.587\n",
            "[1014]\tvalidation_0-logloss:0.541024\tvalidation_1-logloss:0.587027\n",
            "[1015]\tvalidation_0-logloss:0.541024\tvalidation_1-logloss:0.587027\n",
            "[1016]\tvalidation_0-logloss:0.540974\tvalidation_1-logloss:0.587013\n",
            "[1017]\tvalidation_0-logloss:0.540911\tvalidation_1-logloss:0.587063\n",
            "[1018]\tvalidation_0-logloss:0.540848\tvalidation_1-logloss:0.587087\n",
            "[1019]\tvalidation_0-logloss:0.540813\tvalidation_1-logloss:0.587116\n",
            "[1020]\tvalidation_0-logloss:0.54075\tvalidation_1-logloss:0.587071\n",
            "[1021]\tvalidation_0-logloss:0.54075\tvalidation_1-logloss:0.587071\n",
            "[1022]\tvalidation_0-logloss:0.540749\tvalidation_1-logloss:0.587069\n",
            "[1023]\tvalidation_0-logloss:0.540685\tvalidation_1-logloss:0.587082\n",
            "[1024]\tvalidation_0-logloss:0.540638\tvalidation_1-logloss:0.587079\n",
            "[1025]\tvalidation_0-logloss:0.540614\tvalidation_1-logloss:0.587096\n",
            "[1026]\tvalidation_0-logloss:0.540558\tvalidation_1-logloss:0.587061\n",
            "[1027]\tvalidation_0-logloss:0.540557\tvalidation_1-logloss:0.58706\n",
            "[1028]\tvalidation_0-logloss:0.540527\tvalidation_1-logloss:0.587048\n",
            "[1029]\tvalidation_0-logloss:0.540448\tvalidation_1-logloss:0.58702\n",
            "[1030]\tvalidation_0-logloss:0.540413\tvalidation_1-logloss:0.587016\n",
            "[1031]\tvalidation_0-logloss:0.54036\tvalidation_1-logloss:0.58699\n",
            "[1032]\tvalidation_0-logloss:0.540337\tvalidation_1-logloss:0.586974\n",
            "[1033]\tvalidation_0-logloss:0.540287\tvalidation_1-logloss:0.586962\n",
            "[1034]\tvalidation_0-logloss:0.540226\tvalidation_1-logloss:0.586936\n",
            "[1035]\tvalidation_0-logloss:0.54015\tvalidation_1-logloss:0.586947\n",
            "[1036]\tvalidation_0-logloss:0.540101\tvalidation_1-logloss:0.586905\n",
            "[1037]\tvalidation_0-logloss:0.540071\tvalidation_1-logloss:0.586914\n",
            "[1038]\tvalidation_0-logloss:0.540071\tvalidation_1-logloss:0.586914\n",
            "[1039]\tvalidation_0-logloss:0.540043\tvalidation_1-logloss:0.586909\n",
            "[1040]\tvalidation_0-logloss:0.540007\tvalidation_1-logloss:0.58689\n",
            "[1041]\tvalidation_0-logloss:0.539962\tvalidation_1-logloss:0.586905\n",
            "[1042]\tvalidation_0-logloss:0.539918\tvalidation_1-logloss:0.586953\n",
            "[1043]\tvalidation_0-logloss:0.539879\tvalidation_1-logloss:0.586943\n",
            "[1044]\tvalidation_0-logloss:0.539864\tvalidation_1-logloss:0.586941\n",
            "[1045]\tvalidation_0-logloss:0.539846\tvalidation_1-logloss:0.58697\n",
            "[1046]\tvalidation_0-logloss:0.539787\tvalidation_1-logloss:0.586925\n",
            "[1047]\tvalidation_0-logloss:0.539738\tvalidation_1-logloss:0.586917\n",
            "[1048]\tvalidation_0-logloss:0.539718\tvalidation_1-logloss:0.586876\n",
            "[1049]\tvalidation_0-logloss:0.539717\tvalidation_1-logloss:0.586876\n",
            "[1050]\tvalidation_0-logloss:0.53967\tvalidation_1-logloss:0.586882\n",
            "[1051]\tvalidation_0-logloss:0.539635\tvalidation_1-logloss:0.586885\n",
            "[1052]\tvalidation_0-logloss:0.539635\tvalidation_1-logloss:0.586885\n",
            "[1053]\tvalidation_0-logloss:0.539633\tvalidation_1-logloss:0.586881\n",
            "[1054]\tvalidation_0-logloss:0.539631\tvalidation_1-logloss:0.586878\n",
            "[1055]\tvalidation_0-logloss:0.53961\tvalidation_1-logloss:0.586918\n",
            "[1056]\tvalidation_0-logloss:0.539608\tvalidation_1-logloss:0.586916\n",
            "[1057]\tvalidation_0-logloss:0.539588\tvalidation_1-logloss:0.58692\n",
            "[1058]\tvalidation_0-logloss:0.539551\tvalidation_1-logloss:0.586905\n",
            "[1059]\tvalidation_0-logloss:0.53955\tvalidation_1-logloss:0.586904\n",
            "[1060]\tvalidation_0-logloss:0.539524\tvalidation_1-logloss:0.586911\n",
            "[1061]\tvalidation_0-logloss:0.539523\tvalidation_1-logloss:0.586909\n",
            "[1062]\tvalidation_0-logloss:0.539471\tvalidation_1-logloss:0.586887\n",
            "Stopping. Best iteration:\n",
            "[962]\tvalidation_0-logloss:0.543018\tvalidation_1-logloss:0.586814\n",
            "\n",
            "Training Score:  0.7266666666666667\n"
          ],
          "name": "stdout"
        },
        {
          "output_type": "display_data",
          "data": {
            "image/png": "[encoded data removed]",
            "text/plain": [
              "<Figure size 432x288 with 1 Axes>"
            ]
          },
          "metadata": {
            "tags": [],
            "needs_background": "light"
          }
        }
      ]
    },
    {
      "cell_type": "code",
      "metadata": {
        "id": "U8NwtocmU57n"
      },
      "source": [
        "scores = cross_val_score(model, x_train, y_train, cv=5)\n",
        "print(\"Mean cross-validation score: %.2f\" % scores.mean())"
      ],
      "execution_count": null,
      "outputs": []
    },
    {
      "cell_type": "code",
      "metadata": {
        "id": "lnM8ymaI9ySX"
      },
      "source": [
        ""
      ],
      "execution_count": 9,
      "outputs": []
    },
    {
      "cell_type": "code",
      "metadata": {
        "colab": {
          "base_uri": "https://localhost:8080/"
        },
        "id": "-o8AlIwS-WsJ",
        "outputId": "8892e32f-4ebc-48e4-a4d1-0bff2b1e19f0"
      },
      "source": [
        "predictions =  model.predict(x_test)\n",
        "accuracy =accuracy_score(y_test, predictions)\n",
        "print(accuracy *100.0)"
      ],
      "execution_count": 388,
      "outputs": [
        {
          "output_type": "stream",
          "text": [
            "70.8\n"
          ],
          "name": "stdout"
        }
      ]
    },
    {
      "cell_type": "code",
      "metadata": {
        "id": "MWJDj_kA-lt1",
        "colab": {
          "base_uri": "https://localhost:8080/",
          "height": 312
        },
        "outputId": "a5d8809d-6dc4-4729-9add-90c026daf090"
      },
      "source": [
        "from xgboost import plot_importance\n",
        "from matplotlib  import pyplot\n",
        "\n",
        "plt.figure(figsize=(20,15))\n",
        "plot_importance(model)\n",
        "pyplot.show()"
      ],
      "execution_count": 124,
      "outputs": [
        {
          "output_type": "display_data",
          "data": {
            "text/plain": [
              "<Figure size 1440x1080 with 0 Axes>"
            ]
          },
          "metadata": {
            "tags": []
          }
        },
        {
          "output_type": "display_data",
          "data": {
            "image/png": "[encoded data removed]",
            "text/plain": [
              "<Figure size 432x288 with 1 Axes>"
            ]
          },
          "metadata": {
            "tags": [],
            "needs_background": "light"
          }
        }
      ]
    },
    {
      "cell_type": "code",
      "metadata": {
        "colab": {
          "base_uri": "https://localhost:8080/",
          "height": 893
        },
        "id": "s6P9CQ5N-0XI",
        "outputId": "597a9af7-1250-42ef-f3b1-0bc027b40b3c"
      },
      "source": [
        "plt.figure(figsize=(20,15))\n",
        "plot_importance(model, ax=plt.gca())\n",
        "pyplot.show()"
      ],
      "execution_count": 125,
      "outputs": [
        {
          "output_type": "display_data",
          "data": {
            "image/png": "[encoded data removed]",
            "text/plain": [
              "<Figure size 1440x1080 with 1 Axes>"
            ]
          },
          "metadata": {
            "tags": [],
            "needs_background": "light"
          }
        }
      ]
    },
    {
      "cell_type": "code",
      "metadata": {
        "colab": {
          "base_uri": "https://localhost:8080/",
          "height": 260
        },
        "id": "S4irclPq-6pK",
        "outputId": "250c75b7-17f3-4cd5-fadf-0dab511dc599"
      },
      "source": [
        "import xgboost as xgb\n",
        "plt.figure(figsize=(20,15))\n",
        "xgb.plot_tree(model, ax=plt.gca());"
      ],
      "execution_count": 13,
      "outputs": [
        {
          "output_type": "display_data",
          "data": {
            "image/png": "[encoded data removed]",
            "text/plain": [
              "<Figure size 1440x1080 with 1 Axes>"
            ]
          },
          "metadata": {
            "tags": [],
            "needs_background": "light"
          }
        }
      ]
    },
    {
      "cell_type": "code",
      "metadata": {
        "id": "vSbqnNo2_XaI",
        "colab": {
          "resources": {
            "http://localhost:8080/nbextensions/google.colab/files.js": {
              "data": "Ly8gQ29weXJpZ2h0IDIwMTcgR29vZ2xlIExMQwovLwovLyBMaWNlbnNlZCB1bmRlciB0aGUgQXBhY2hlIExpY2Vuc2UsIFZlcnNpb24gMi4wICh0aGUgIkxpY2Vuc2UiKTsKLy8geW91IG1heSBub3QgdXNlIHRoaXMgZmlsZSBleGNlcHQgaW4gY29tcGxpYW5jZSB3aXRoIHRoZSBMaWNlbnNlLgovLyBZb3UgbWF5IG9idGFpbiBhIGNvcHkgb2YgdGhlIExpY2Vuc2UgYXQKLy8KLy8gICAgICBodHRwOi8vd3d3LmFwYWNoZS5vcmcvbGljZW5zZXMvTElDRU5TRS0yLjAKLy8KLy8gVW5sZXNzIHJlcXVpcmVkIGJ5IGFwcGxpY2FibGUgbGF3IG9yIGFncmVlZCB0byBpbiB3cml0aW5nLCBzb2Z0d2FyZQovLyBkaXN0cmlidXRlZCB1bmRlciB0aGUgTGljZW5zZSBpcyBkaXN0cmlidXRlZCBvbiBhbiAiQVMgSVMiIEJBU0lTLAovLyBXSVRIT1VUIFdBUlJBTlRJRVMgT1IgQ09ORElUSU9OUyBPRiBBTlkgS0lORCwgZWl0aGVyIGV4cHJlc3Mgb3IgaW1wbGllZC4KLy8gU2VlIHRoZSBMaWNlbnNlIGZvciB0aGUgc3BlY2lmaWMgbGFuZ3VhZ2UgZ292ZXJuaW5nIHBlcm1pc3Npb25zIGFuZAovLyBsaW1pdGF0aW9ucyB1bmRlciB0aGUgTGljZW5zZS4KCi8qKgogKiBAZmlsZW92ZXJ2aWV3IEhlbHBlcnMgZm9yIGdvb2dsZS5jb2xhYiBQeXRob24gbW9kdWxlLgogKi8KKGZ1bmN0aW9uKHNjb3BlKSB7CmZ1bmN0aW9uIHNwYW4odGV4dCwgc3R5bGVBdHRyaWJ1dGVzID0ge30pIHsKICBjb25zdCBlbGVtZW50ID0gZG9jdW1lbnQuY3JlYXRlRWxlbWVudCgnc3BhbicpOwogIGVsZW1lbnQudGV4dENvbnRlbnQgPSB0ZXh0OwogIGZvciAoY29uc3Qga2V5IG9mIE9iamVjdC5rZXlzKHN0eWxlQXR0cmlidXRlcykpIHsKICAgIGVsZW1lbnQuc3R5bGVba2V5XSA9IHN0eWxlQXR0cmlidXRlc1trZXldOwogIH0KICByZXR1cm4gZWxlbWVudDsKfQoKLy8gTWF4IG51bWJlciBvZiBieXRlcyB3aGljaCB3aWxsIGJlIHVwbG9hZGVkIGF0IGEgdGltZS4KY29uc3QgTUFYX1BBWUxPQURfU0laRSA9IDEwMCAqIDEwMjQ7CgpmdW5jdGlvbiBfdXBsb2FkRmlsZXMoaW5wdXRJZCwgb3V0cHV0SWQpIHsKICBjb25zdCBzdGVwcyA9IHVwbG9hZEZpbGVzU3RlcChpbnB1dElkLCBvdXRwdXRJZCk7CiAgY29uc3Qgb3V0cHV0RWxlbWVudCA9IGRvY3VtZW50LmdldEVsZW1lbnRCeUlkKG91dHB1dElkKTsKICAvLyBDYWNoZSBzdGVwcyBvbiB0aGUgb3V0cHV0RWxlbWVudCB0byBtYWtlIGl0IGF2YWlsYWJsZSBmb3IgdGhlIG5leHQgY2FsbAogIC8vIHRvIHVwbG9hZEZpbGVzQ29udGludWUgZnJvbSBQeXRob24uCiAgb3V0cHV0RWxlbWVudC5zdGVwcyA9IHN0ZXBzOwoKICByZXR1cm4gX3VwbG9hZEZpbGVzQ29udGludWUob3V0cHV0SWQpOwp9CgovLyBUaGlzIGlzIHJvdWdobHkgYW4gYXN5bmMgZ2VuZXJhdG9yIChub3Qgc3VwcG9ydGVkIGluIHRoZSBicm93c2VyIHlldCksCi8vIHdoZXJlIHRoZXJlIGFyZSBtdWx0aXBsZSBhc3luY2hyb25vdXMgc3RlcHMgYW5kIHRoZSBQeXRob24gc2lkZSBpcyBnb2luZwovLyB0byBwb2xsIGZvciBjb21wbGV0aW9uIG9mIGVhY2ggc3RlcC4KLy8gVGhpcyB1c2VzIGEgUHJvbWlzZSB0byBibG9jayB0aGUgcHl0aG9uIHNpZGUgb24gY29tcGxldGlvbiBvZiBlYWNoIHN0ZXAsCi8vIHRoZW4gcGFzc2VzIHRoZSByZXN1bHQgb2YgdGhlIHByZXZpb3VzIHN0ZXAgYXMgdGhlIGlucHV0IHRvIHRoZSBuZXh0IHN0ZXAuCmZ1bmN0aW9uIF91cGxvYWRGaWxlc0NvbnRpbnVlKG91dHB1dElkKSB7CiAgY29uc3Qgb3V0cHV0RWxlbWVudCA9IGRvY3VtZW50LmdldEVsZW1lbnRCeUlkKG91dHB1dElkKTsKICBjb25zdCBzdGVwcyA9IG91dHB1dEVsZW1lbnQuc3RlcHM7CgogIGNvbnN0IG5leHQgPSBzdGVwcy5uZXh0KG91dHB1dEVsZW1lbnQubGFzdFByb21pc2VWYWx1ZSk7CiAgcmV0dXJuIFByb21pc2UucmVzb2x2ZShuZXh0LnZhbHVlLnByb21pc2UpLnRoZW4oKHZhbHVlKSA9PiB7CiAgICAvLyBDYWNoZSB0aGUgbGFzdCBwcm9taXNlIHZhbHVlIHRvIG1ha2UgaXQgYXZhaWxhYmxlIHRvIHRoZSBuZXh0CiAgICAvLyBzdGVwIG9mIHRoZSBnZW5lcmF0b3IuCiAgICBvdXRwdXRFbGVtZW50Lmxhc3RQcm9taXNlVmFsdWUgPSB2YWx1ZTsKICAgIHJldHVybiBuZXh0LnZhbHVlLnJlc3BvbnNlOwogIH0pOwp9CgovKioKICogR2VuZXJhdG9yIGZ1bmN0aW9uIHdoaWNoIGlzIGNhbGxlZCBiZXR3ZWVuIGVhY2ggYXN5bmMgc3RlcCBvZiB0aGUgdXBsb2FkCiAqIHByb2Nlc3MuCiAqIEBwYXJhbSB7c3RyaW5nfSBpbnB1dElkIEVsZW1lbnQgSUQgb2YgdGhlIGlucHV0IGZpbGUgcGlja2VyIGVsZW1lbnQuCiAqIEBwYXJhbSB7c3RyaW5nfSBvdXRwdXRJZCBFbGVtZW50IElEIG9mIHRoZSBvdXRwdXQgZGlzcGxheS4KICogQHJldHVybiB7IUl0ZXJhYmxlPCFPYmplY3Q+fSBJdGVyYWJsZSBvZiBuZXh0IHN0ZXBzLgogKi8KZnVuY3Rpb24qIHVwbG9hZEZpbGVzU3RlcChpbnB1dElkLCBvdXRwdXRJZCkgewogIGNvbnN0IGlucHV0RWxlbWVudCA9IGRvY3VtZW50LmdldEVsZW1lbnRCeUlkKGlucHV0SWQpOwogIGlucHV0RWxlbWVudC5kaXNhYmxlZCA9IGZhbHNlOwoKICBjb25zdCBvdXRwdXRFbGVtZW50ID0gZG9jdW1lbnQuZ2V0RWxlbWVudEJ5SWQob3V0cHV0SWQpOwogIG91dHB1dEVsZW1lbnQuaW5uZXJIVE1MID0gJyc7CgogIGNvbnN0IHBpY2tlZFByb21pc2UgPSBuZXcgUHJvbWlzZSgocmVzb2x2ZSkgPT4gewogICAgaW5wdXRFbGVtZW50LmFkZEV2ZW50TGlzdGVuZXIoJ2NoYW5nZScsIChlKSA9PiB7CiAgICAgIHJlc29sdmUoZS50YXJnZXQuZmlsZXMpOwogICAgfSk7CiAgfSk7CgogIGNvbnN0IGNhbmNlbCA9IGRvY3VtZW50LmNyZWF0ZUVsZW1lbnQoJ2J1dHRvbicpOwogIGlucHV0RWxlbWVudC5wYXJlbnRFbGVtZW50LmFwcGVuZENoaWxkKGNhbmNlbCk7CiAgY2FuY2VsLnRleHRDb250ZW50ID0gJ0NhbmNlbCB1cGxvYWQnOwogIGNvbnN0IGNhbmNlbFByb21pc2UgPSBuZXcgUHJvbWlzZSgocmVzb2x2ZSkgPT4gewogICAgY2FuY2VsLm9uY2xpY2sgPSAoKSA9PiB7CiAgICAgIHJlc29sdmUobnVsbCk7CiAgICB9OwogIH0pOwoKICAvLyBXYWl0IGZvciB0aGUgdXNlciB0byBwaWNrIHRoZSBmaWxlcy4KICBjb25zdCBmaWxlcyA9IHlpZWxkIHsKICAgIHByb21pc2U6IFByb21pc2UucmFjZShbcGlja2VkUHJvbWlzZSwgY2FuY2VsUHJvbWlzZV0pLAogICAgcmVzcG9uc2U6IHsKICAgICAgYWN0aW9uOiAnc3RhcnRpbmcnLAogICAgfQogIH07CgogIGNhbmNlbC5yZW1vdmUoKTsKCiAgLy8gRGlzYWJsZSB0aGUgaW5wdXQgZWxlbWVudCBzaW5jZSBmdXJ0aGVyIHBpY2tzIGFyZSBub3QgYWxsb3dlZC4KICBpbnB1dEVsZW1lbnQuZGlzYWJsZWQgPSB0cnVlOwoKICBpZiAoIWZpbGVzKSB7CiAgICByZXR1cm4gewogICAgICByZXNwb25zZTogewogICAgICAgIGFjdGlvbjogJ2NvbXBsZXRlJywKICAgICAgfQogICAgfTsKICB9CgogIGZvciAoY29uc3QgZmlsZSBvZiBmaWxlcykgewogICAgY29uc3QgbGkgPSBkb2N1bWVudC5jcmVhdGVFbGVtZW50KCdsaScpOwogICAgbGkuYXBwZW5kKHNwYW4oZmlsZS5uYW1lLCB7Zm9udFdlaWdodDogJ2JvbGQnfSkpOwogICAgbGkuYXBwZW5kKHNwYW4oCiAgICAgICAgYCgke2ZpbGUudHlwZSB8fCAnbi9hJ30pIC0gJHtmaWxlLnNpemV9IGJ5dGVzLCBgICsKICAgICAgICBgbGFzdCBtb2RpZmllZDogJHsKICAgICAgICAgICAgZmlsZS5sYXN0TW9kaWZpZWREYXRlID8gZmlsZS5sYXN0TW9kaWZpZWREYXRlLnRvTG9jYWxlRGF0ZVN0cmluZygpIDoKICAgICAgICAgICAgICAgICAgICAgICAgICAgICAgICAgICAgJ24vYSd9IC0gYCkpOwogICAgY29uc3QgcGVyY2VudCA9IHNwYW4oJzAlIGRvbmUnKTsKICAgIGxpLmFwcGVuZENoaWxkKHBlcmNlbnQpOwoKICAgIG91dHB1dEVsZW1lbnQuYXBwZW5kQ2hpbGQobGkpOwoKICAgIGNvbnN0IGZpbGVEYXRhUHJvbWlzZSA9IG5ldyBQcm9taXNlKChyZXNvbHZlKSA9PiB7CiAgICAgIGNvbnN0IHJlYWRlciA9IG5ldyBGaWxlUmVhZGVyKCk7CiAgICAgIHJlYWRlci5vbmxvYWQgPSAoZSkgPT4gewogICAgICAgIHJlc29sdmUoZS50YXJnZXQucmVzdWx0KTsKICAgICAgfTsKICAgICAgcmVhZGVyLnJlYWRBc0FycmF5QnVmZmVyKGZpbGUpOwogICAgfSk7CiAgICAvLyBXYWl0IGZvciB0aGUgZGF0YSB0byBiZSByZWFkeS4KICAgIGxldCBmaWxlRGF0YSA9IHlpZWxkIHsKICAgICAgcHJvbWlzZTogZmlsZURhdGFQcm9taXNlLAogICAgICByZXNwb25zZTogewogICAgICAgIGFjdGlvbjogJ2NvbnRpbnVlJywKICAgICAgfQogICAgfTsKCiAgICAvLyBVc2UgYSBjaHVua2VkIHNlbmRpbmcgdG8gYXZvaWQgbWVzc2FnZSBzaXplIGxpbWl0cy4gU2VlIGIvNjIxMTU2NjAuCiAgICBsZXQgcG9zaXRpb24gPSAwOwogICAgZG8gewogICAgICBjb25zdCBsZW5ndGggPSBNYXRoLm1pbihmaWxlRGF0YS5ieXRlTGVuZ3RoIC0gcG9zaXRpb24sIE1BWF9QQVlMT0FEX1NJWkUpOwogICAgICBjb25zdCBjaHVuayA9IG5ldyBVaW50OEFycmF5KGZpbGVEYXRhLCBwb3NpdGlvbiwgbGVuZ3RoKTsKICAgICAgcG9zaXRpb24gKz0gbGVuZ3RoOwoKICAgICAgY29uc3QgYmFzZTY0ID0gYnRvYShTdHJpbmcuZnJvbUNoYXJDb2RlLmFwcGx5KG51bGwsIGNodW5rKSk7CiAgICAgIHlpZWxkIHsKICAgICAgICByZXNwb25zZTogewogICAgICAgICAgYWN0aW9uOiAnYXBwZW5kJywKICAgICAgICAgIGZpbGU6IGZpbGUubmFtZSwKICAgICAgICAgIGRhdGE6IGJhc2U2NCwKICAgICAgICB9LAogICAgICB9OwoKICAgICAgbGV0IHBlcmNlbnREb25lID0gZmlsZURhdGEuYnl0ZUxlbmd0aCA9PT0gMCA/CiAgICAgICAgICAxMDAgOgogICAgICAgICAgTWF0aC5yb3VuZCgocG9zaXRpb24gLyBmaWxlRGF0YS5ieXRlTGVuZ3RoKSAqIDEwMCk7CiAgICAgIHBlcmNlbnQudGV4dENvbnRlbnQgPSBgJHtwZXJjZW50RG9uZX0lIGRvbmVgOwoKICAgIH0gd2hpbGUgKHBvc2l0aW9uIDwgZmlsZURhdGEuYnl0ZUxlbmd0aCk7CiAgfQoKICAvLyBBbGwgZG9uZS4KICB5aWVsZCB7CiAgICByZXNwb25zZTogewogICAgICBhY3Rpb246ICdjb21wbGV0ZScsCiAgICB9CiAgfTsKfQoKc2NvcGUuZ29vZ2xlID0gc2NvcGUuZ29vZ2xlIHx8IHt9OwpzY29wZS5nb29nbGUuY29sYWIgPSBzY29wZS5nb29nbGUuY29sYWIgfHwge307CnNjb3BlLmdvb2dsZS5jb2xhYi5fZmlsZXMgPSB7CiAgX3VwbG9hZEZpbGVzLAogIF91cGxvYWRGaWxlc0NvbnRpbnVlLAp9Owp9KShzZWxmKTsK",
              "ok": true,
              "headers": [
                [
                  "content-type",
                  "application/javascript"
                ]
              ],
              "status": 200,
              "status_text": ""
            }
          },
          "base_uri": "https://localhost:8080/",
          "height": 72
        },
        "outputId": "bc006e34-433e-42a2-9bee-3ff4dd96344e"
      },
      "source": [
        "uploaded = files.upload()"
      ],
      "execution_count": 110,
      "outputs": [
        {
          "output_type": "display_data",
          "data": {
            "text/html": [
              "\n",
              "     <input type=\"file\" id=\"files-d7ab644a-fe01-4e61-b79a-1137d295f328\" name=\"files[]\" multiple disabled\n",
              "        style=\"border:none\" />\n",
              "     <output id=\"result-d7ab644a-fe01-4e61-b79a-1137d295f328\">\n",
              "      Upload widget is only available when the cell has been executed in the\n",
              "      current browser session. Please rerun this cell to enable.\n",
              "      </output>\n",
              "      <script src=\"/nbextensions/google.colab/files.js\"></script> "
            ],
            "text/plain": [
              "<IPython.core.display.HTML object>"
            ]
          },
          "metadata": {
            "tags": []
          }
        },
        {
          "output_type": "stream",
          "text": [
            "Saving CSE_DSIntro1_TEST.csv to CSE_DSIntro1_TEST (1).csv\n"
          ],
          "name": "stdout"
        }
      ]
    },
    {
      "cell_type": "code",
      "metadata": {
        "id": "t87HG9OteXaI"
      },
      "source": [
        "from google.colab import drive\n",
        "drive.mount('/content/drive')"
      ],
      "execution_count": null,
      "outputs": []
    },
    {
      "cell_type": "code",
      "metadata": {
        "colab": {
          "base_uri": "https://localhost:8080/"
        },
        "id": "EIGKapggBJSN",
        "outputId": "68d640f9-7dd2-4b6c-81b1-9a9877d704e0"
      },
      "source": [
        "td = pd.read_csv (io.BytesIO(uploaded['CSE_DSIntro1_TEST.csv']))\n",
        "print(td)"
      ],
      "execution_count": 140,
      "outputs": [
        {
          "output_type": "stream",
          "text": [
            "        Id  Column_1     Column_2  ...  Column_75  Column_76  Column_77\n",
            "0        1  77117.50  44514.90373  ...         22          2       2021\n",
            "1        2  77120.00  44516.34682  ...         22          2       2021\n",
            "2        3  77120.00  44516.34682  ...         22          2       2021\n",
            "3        4  77120.00  44516.34682  ...         22          2       2021\n",
            "4        5  77120.00  44516.34682  ...         22          2       2021\n",
            "...    ...       ...          ...  ...        ...        ...        ...\n",
            "1586  1587  77120.00  44516.34682  ...         22          2       2021\n",
            "1587  1588  77117.50  44514.90373  ...         22          2       2021\n",
            "1588  1589  77122.25  44517.64560  ...         22          2       2021\n",
            "1589  1590  77122.25  44517.64560  ...         22          2       2021\n",
            "1590  1591  77122.25  44517.64560  ...         22          2       2021\n",
            "\n",
            "[1591 rows x 78 columns]\n"
          ],
          "name": "stdout"
        }
      ]
    },
    {
      "cell_type": "code",
      "metadata": {
        "id": "ruuwtuOjBS3K"
      },
      "source": [
        "tX= td[['Column_4',\n",
        "       'Column_6', 'Column_7', 'Column_8','Column_9', 'Column_10',\n",
        "       'Column_11','Column_12', 'Column_13', 'Column_14', 'Column_15', \n",
        "       'Column_16','Column_17', 'Column_18', 'Column_19', 'Column_20', \n",
        "       'Column_21','Column_22', 'Column_23', 'Column_24', 'Column_25',\n",
        "       'Column_26','Column_27', 'Column_28', 'Column_29', 'Column_30',\n",
        "       'Column_31','Column_32', 'Column_33', 'Column_34', 'Column_35',\n",
        "       'Column_36','Column_37', 'Column_38', 'Column_39', 'Column_40',\n",
        "       'Column_41','Column_42', 'Column_43', 'Column_44', 'Column_45',\n",
        "       'Column_46','Column_47', 'Column_48', 'Column_49', 'Column_50',\n",
        "       'Column_51','Column_52', 'Column_54', 'Column_58', 'Column_59', 'Column_60',\n",
        "       'Column_61','Column_62', 'Column_63', 'Column_64', 'Column_65']]"
      ],
      "execution_count": 325,
      "outputs": []
    },
    {
      "cell_type": "code",
      "metadata": {
        "id": "6lBpE4lRBdDv"
      },
      "source": [
        "predictions =  model.predict(tX)"
      ],
      "execution_count": 389,
      "outputs": []
    },
    {
      "cell_type": "code",
      "metadata": {
        "colab": {
          "base_uri": "https://localhost:8080/",
          "height": 163
        },
        "id": "2mczLUmECUZe",
        "outputId": "a4673925-415b-42a3-f536-38d5998df0bc"
      },
      "source": [
        ""
      ],
      "execution_count": 21,
      "outputs": [
        {
          "output_type": "error",
          "ename": "TypeError",
          "evalue": "ignored",
          "traceback": [
            "\u001b[0;31m---------------------------------------------------------------------------\u001b[0m",
            "\u001b[0;31mTypeError\u001b[0m                                 Traceback (most recent call last)",
            "\u001b[0;32m<ipython-input-21-db98768c450a>\u001b[0m in \u001b[0;36m<module>\u001b[0;34m()\u001b[0m\n\u001b[0;32m----> 1\u001b[0;31m \u001b[0mdas\u001b[0m \u001b[0;34m=\u001b[0m \u001b[0msorted\u001b[0m\u001b[0;34m[\u001b[0m\u001b[0;36m2\u001b[0m\u001b[0;34m,\u001b[0m\u001b[0;36m4\u001b[0m\u001b[0;34m,\u001b[0m\u001b[0;36m5\u001b[0m\u001b[0;34m]\u001b[0m\u001b[0;34m\u001b[0m\u001b[0;34m\u001b[0m\u001b[0m\n\u001b[0m",
            "\u001b[0;31mTypeError\u001b[0m: 'builtin_function_or_method' object is not subscriptable"
          ]
        }
      ]
    },
    {
      "cell_type": "code",
      "metadata": {
        "id": "7aqyZ8uWDLqR",
        "colab": {
          "base_uri": "https://localhost:8080/"
        },
        "outputId": "acd18663-9017-4709-e13d-9fca9e9f4cc1"
      },
      "source": [
        "Id = td['Id']\n",
        "Category = predictions\n",
        "res = pd.DataFrame({'Id':Id,'Category':Category})\n",
        "type (res)\n"
      ],
      "execution_count": 390,
      "outputs": [
        {
          "output_type": "execute_result",
          "data": {
            "text/plain": [
              "pandas.core.frame.DataFrame"
            ]
          },
          "metadata": {
            "tags": []
          },
          "execution_count": 390
        }
      ]
    },
    {
      "cell_type": "code",
      "metadata": {
        "colab": {
          "base_uri": "https://localhost:8080/"
        },
        "id": "nFoGaEC8GmVk",
        "outputId": "c315cb11-ab54-43ef-ff94-36a56d7aa1b3"
      },
      "source": [
        "res.value_counts('Category')"
      ],
      "execution_count": 391,
      "outputs": [
        {
          "output_type": "execute_result",
          "data": {
            "text/plain": [
              "Category\n",
              "0    1428\n",
              "1     163\n",
              "dtype: int64"
            ]
          },
          "metadata": {
            "tags": []
          },
          "execution_count": 391
        }
      ]
    },
    {
      "cell_type": "code",
      "metadata": {
        "id": "tcqqfTZlroaK"
      },
      "source": [
        "res.to_csv(\"predictions15.csv\",index=False)"
      ],
      "execution_count": 379,
      "outputs": []
    },
    {
      "cell_type": "code",
      "metadata": {
        "id": "okV6EXjrxLkD"
      },
      "source": [
        "model.save_model('0.709.h5')"
      ],
      "execution_count": 202,
      "outputs": []
    },
    {
      "cell_type": "code",
      "metadata": {
        "id": "_Ss_bhoWHg41",
        "colab": {
          "base_uri": "https://localhost:8080/"
        },
        "outputId": "77a54a6c-39f4-4a13-de54-1cf0834cf313"
      },
      "source": [
        "thr ={}\n",
        "thresholds = (model.feature_importances_)\n",
        "for i in range(len(thresholds)):\n",
        "  thr[i] = thresholds[i]\n",
        "print(thr)\n",
        "dic = {k: v for k, v in sorted(thr.items(), key=lambda item: item[1])}\n",
        "print(dic)"
      ],
      "execution_count": 67,
      "outputs": [
        {
          "output_type": "stream",
          "text": [
            "{0: 0.036440693, 1: 0.032142237, 2: 0.051048573, 3: 0.029919608, 4: 0.037373256, 5: 0.045195244, 6: 0.055958275, 7: 0.07599827, 8: 0.06767309, 9: 0.06792883, 10: 0.064916, 11: 0.11796392, 12: 0.040004946, 13: 0.06284632, 14: 0.05085353, 15: 0.06104983, 16: 0.047663473, 17: 0.055023927}\n",
            "{3: 0.029919608, 1: 0.032142237, 0: 0.036440693, 4: 0.037373256, 12: 0.040004946, 5: 0.045195244, 16: 0.047663473, 14: 0.05085353, 2: 0.051048573, 17: 0.055023927, 6: 0.055958275, 15: 0.06104983, 13: 0.06284632, 10: 0.064916, 8: 0.06767309, 9: 0.06792883, 7: 0.07599827, 11: 0.11796392}\n"
          ],
          "name": "stdout"
        }
      ]
    },
    {
      "cell_type": "code",
      "metadata": {
        "colab": {
          "base_uri": "https://localhost:8080/"
        },
        "id": "h5mhc6fp3Kp-",
        "outputId": "ab0a1c37-0583-4415-e6e8-a06252ad3153"
      },
      "source": [
        "\n",
        "# select features using threshold\n",
        "selection = SelectFromModel(model, threshold=0.00000, prefit=True)\n",
        "select_x_train = selection.transform(x_train)\n",
        "print(x_train)\n",
        "# train model\n",
        "selection_model = XGBClassifier()\n",
        "selection_model.fit(select_x_train, y_train)\n",
        "# eval model\n",
        "select_x_test = selection.transform(x_test)\n",
        "y_pred = selection_model.predict(select_x_test)\n",
        "predictions = [round(value) for value in y_pred]\n",
        "accuracy = accuracy_score(y_test, predictions)\n",
        "print(\"Thresh=%.5f, n=%d, Accuracy: %.3f%%\" % (thresh, select_x_train.shape[1], accuracy*100.0))"
      ],
      "execution_count": 80,
      "outputs": [
        {
          "output_type": "stream",
          "text": [
            "      Column_12  Column_21  Column_24  ...  Column_65  Column_67  Column_68\n",
            "275   1480.6560  1326.4210  1727.4320  ...   1.512161         25         15\n",
            "64    1634.9440  1264.7680  1326.4640  ...   1.512225         23         42\n",
            "260    431.8986  1233.9960   863.7972  ...   1.512056         25          8\n",
            "972   1233.8800   956.2570   586.0930  ...   1.511249         30         32\n",
            "2247  1480.6560  1172.1860   802.0220  ...   1.511014         40         32\n",
            "...         ...        ...        ...  ...        ...        ...        ...\n",
            "1164  1079.7115   740.3736   832.9203  ...   1.511176         32          0\n",
            "2359  1141.3760  1480.7040  2313.6000  ...   1.510882         41         26\n",
            "1942  1079.6800   771.2000  1604.0960  ...   1.512094         38          5\n",
            "2064  1480.7952   339.3489   894.6471  ...   1.511370         39          4\n",
            "865   1881.7280   586.1120  1696.6400  ...   1.511199         29         42\n",
            "\n",
            "[2000 rows x 18 columns]\n",
            "Thresh=0.06105, n=18, Accuracy: 73.000%\n"
          ],
          "name": "stdout"
        }
      ]
    },
    {
      "cell_type": "code",
      "metadata": {
        "colab": {
          "base_uri": "https://localhost:8080/",
          "height": 863
        },
        "id": "jG-Z3kI_4r2R",
        "outputId": "8edac0f3-01da-47cf-d64f-b8ffa619ace5"
      },
      "source": [
        "plt.figure(figsize=(20,15))\n",
        "pyplot.bar(range(len(model.feature_importances_)), np.sort(model.feature_importances_))\n",
        "pyplot.show()"
      ],
      "execution_count": 66,
      "outputs": [
        {
          "output_type": "display_data",
          "data": {
            "image/png": "[encoded data removed]",
            "text/plain": [
              "<Figure size 1440x1080 with 1 Axes>"
            ]
          },
          "metadata": {
            "tags": [],
            "needs_background": "light"
          }
        }
      ]
    },
    {
      "cell_type": "code",
      "metadata": {
        "colab": {
          "base_uri": "https://localhost:8080/"
        },
        "id": "O7Jgalbh8VPD",
        "outputId": "76ec15e9-90b0-4bb9-d789-82cf92aba56d"
      },
      "source": [
        "X= df[['Column_12', 'Column_21', 'Column_24','Column_28', \n",
        "       'Column_36', 'Column_38', 'Column_51','Column_52', 'Column_54','Column_59', 'Column_60',\n",
        "       'Column_61','Column_62', 'Column_63', 'Column_64', 'Column_65','Column_67', 'Column_68',      \n",
        "       ]]\n",
        "\n",
        "Y= df['Category']\n",
        "print(X)\n",
        "print(Y)\n",
        "\n",
        "x_train, x_test, y_train, y_test =train_test_split(X,Y, test_size=0.2)"
      ],
      "execution_count": 52,
      "outputs": [
        {
          "output_type": "stream",
          "text": [
            "      Column_12  Column_21  Column_24  ...  Column_65  Column_67  Column_68\n",
            "0     1510.0134   986.1312  1479.1968  ...   1.511320         23         15\n",
            "1     1604.0960  1357.3120  1203.0720  ...   1.511169         23         15\n",
            "2      678.6560   308.4800   987.1360  ...   1.511256         23         15\n",
            "3     1141.3390   401.0110  1079.6450  ...   1.511489         23         16\n",
            "4     1789.1840  1850.8800  1542.4000  ...   1.511393         23         16\n",
            "...         ...        ...        ...  ...        ...        ...        ...\n",
            "2495  1573.1970  1017.9510   555.2460  ...   1.510860         42         33\n",
            "2496  1388.1600   863.7440  1357.3120  ...   1.511402         42         34\n",
            "2497  1110.4920   555.2460   987.1040  ...   1.511400         42         34\n",
            "2498  1264.7270  1172.1860   802.0220  ...   1.511201         42         35\n",
            "2499  1295.6160  1048.8320   925.4400  ...   1.511293         42         35\n",
            "\n",
            "[2500 rows x 18 columns]\n",
            "0       0\n",
            "1       0\n",
            "2       0\n",
            "3       0\n",
            "4       0\n",
            "       ..\n",
            "2495    1\n",
            "2496    1\n",
            "2497    1\n",
            "2498    0\n",
            "2499    0\n",
            "Name: Category, Length: 2500, dtype: int64\n"
          ],
          "name": "stdout"
        }
      ]
    },
    {
      "cell_type": "code",
      "metadata": {
        "colab": {
          "base_uri": "https://localhost:8080/"
        },
        "id": "5k71idKSArm5",
        "outputId": "20845b15-cf52-4674-d915-1f91ff5bcec0"
      },
      "source": [
        "model = XGBClassifier()\n",
        "eval_set = [(x_test, y_test)]\n",
        "model.fit(x_train,y_train, early_stopping_rounds=5, eval_metric=\"logloss\", eval_set=eval_set, verbose= True)"
      ],
      "execution_count": 53,
      "outputs": [
        {
          "output_type": "stream",
          "text": [
            "[0]\tvalidation_0-logloss:0.674806\n",
            "Will train until validation_0-logloss hasn't improved in 5 rounds.\n",
            "[1]\tvalidation_0-logloss:0.65974\n",
            "[2]\tvalidation_0-logloss:0.646432\n",
            "[3]\tvalidation_0-logloss:0.636096\n",
            "[4]\tvalidation_0-logloss:0.626822\n",
            "[5]\tvalidation_0-logloss:0.618947\n",
            "[6]\tvalidation_0-logloss:0.613105\n",
            "[7]\tvalidation_0-logloss:0.608593\n",
            "[8]\tvalidation_0-logloss:0.603712\n",
            "[9]\tvalidation_0-logloss:0.599498\n",
            "[10]\tvalidation_0-logloss:0.596545\n",
            "[11]\tvalidation_0-logloss:0.593373\n",
            "[12]\tvalidation_0-logloss:0.590654\n",
            "[13]\tvalidation_0-logloss:0.589175\n",
            "[14]\tvalidation_0-logloss:0.5872\n",
            "[15]\tvalidation_0-logloss:0.585051\n",
            "[16]\tvalidation_0-logloss:0.583024\n",
            "[17]\tvalidation_0-logloss:0.580979\n",
            "[18]\tvalidation_0-logloss:0.580119\n",
            "[19]\tvalidation_0-logloss:0.579046\n",
            "[20]\tvalidation_0-logloss:0.577593\n",
            "[21]\tvalidation_0-logloss:0.576275\n",
            "[22]\tvalidation_0-logloss:0.576103\n",
            "[23]\tvalidation_0-logloss:0.57607\n",
            "[24]\tvalidation_0-logloss:0.575479\n",
            "[25]\tvalidation_0-logloss:0.573985\n",
            "[26]\tvalidation_0-logloss:0.573964\n",
            "[27]\tvalidation_0-logloss:0.572957\n",
            "[28]\tvalidation_0-logloss:0.573645\n",
            "[29]\tvalidation_0-logloss:0.572521\n",
            "[30]\tvalidation_0-logloss:0.571916\n",
            "[31]\tvalidation_0-logloss:0.571801\n",
            "[32]\tvalidation_0-logloss:0.571306\n",
            "[33]\tvalidation_0-logloss:0.570485\n",
            "[34]\tvalidation_0-logloss:0.570565\n",
            "[35]\tvalidation_0-logloss:0.568256\n",
            "[36]\tvalidation_0-logloss:0.568062\n",
            "[37]\tvalidation_0-logloss:0.569289\n",
            "[38]\tvalidation_0-logloss:0.568971\n",
            "[39]\tvalidation_0-logloss:0.568498\n",
            "[40]\tvalidation_0-logloss:0.568821\n",
            "[41]\tvalidation_0-logloss:0.569781\n",
            "Stopping. Best iteration:\n",
            "[36]\tvalidation_0-logloss:0.568062\n",
            "\n"
          ],
          "name": "stdout"
        },
        {
          "output_type": "execute_result",
          "data": {
            "text/plain": [
              "XGBClassifier(base_score=0.5, booster='gbtree', colsample_bylevel=1,\n",
              "              colsample_bynode=1, colsample_bytree=1, gamma=0,\n",
              "              learning_rate=0.1, max_delta_step=0, max_depth=3,\n",
              "              min_child_weight=1, missing=None, n_estimators=100, n_jobs=1,\n",
              "              nthread=None, objective='binary:logistic', random_state=0,\n",
              "              reg_alpha=0, reg_lambda=1, scale_pos_weight=1, seed=None,\n",
              "              silent=None, subsample=1, verbosity=1)"
            ]
          },
          "metadata": {
            "tags": []
          },
          "execution_count": 53
        }
      ]
    },
    {
      "cell_type": "code",
      "metadata": {
        "colab": {
          "base_uri": "https://localhost:8080/"
        },
        "id": "AbUTrdK2Axxp",
        "outputId": "ccaae9cf-b3b3-44ba-87bc-511e08c0f950"
      },
      "source": [
        "predictions =  model.predict(x_test)\n",
        "accuracy =accuracy_score(y_test, predictions)\n",
        "print(accuracy *100.0)"
      ],
      "execution_count": 56,
      "outputs": [
        {
          "output_type": "stream",
          "text": [
            "71.39999999999999\n"
          ],
          "name": "stdout"
        }
      ]
    },
    {
      "cell_type": "code",
      "metadata": {
        "colab": {
          "resources": {
            "http://localhost:8080/nbextensions/google.colab/files.js": {
              "data": "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",
              "ok": true,
              "headers": [
                [
                  "content-type",
                  "application/javascript"
                ]
              ],
              "status": 200,
              "status_text": ""
            }
          },
          "base_uri": "https://localhost:8080/",
          "height": 72
        },
        "id": "yJtP4xbKA7Jt",
        "outputId": "0ea5b890-2317-4698-d03c-072486e0ca8a"
      },
      "source": [
        "uploaded = files.upload()"
      ],
      "execution_count": 57,
      "outputs": [
        {
          "output_type": "display_data",
          "data": {
            "text/html": [
              "\n",
              "     <input type=\"file\" id=\"files-8ef12219-1b21-4e72-8a49-30908eebae7b\" name=\"files[]\" multiple disabled\n",
              "        style=\"border:none\" />\n",
              "     <output id=\"result-8ef12219-1b21-4e72-8a49-30908eebae7b\">\n",
              "      Upload widget is only available when the cell has been executed in the\n",
              "      current browser session. Please rerun this cell to enable.\n",
              "      </output>\n",
              "      <script src=\"/nbextensions/google.colab/files.js\"></script> "
            ],
            "text/plain": [
              "<IPython.core.display.HTML object>"
            ]
          },
          "metadata": {
            "tags": []
          }
        },
        {
          "output_type": "stream",
          "text": [
            "Saving CSE_DSIntro1_TEST.csv to CSE_DSIntro1_TEST.csv\n"
          ],
          "name": "stdout"
        }
      ]
    },
    {
      "cell_type": "code",
      "metadata": {
        "colab": {
          "base_uri": "https://localhost:8080/"
        },
        "id": "mzf7Rw12BPRK",
        "outputId": "55b71278-1815-4cc9-c814-1d926182602d"
      },
      "source": [
        "td = pd.read_csv (io.BytesIO(uploaded['CSE_DSIntro1_TEST.csv']))\n",
        "print(td)"
      ],
      "execution_count": 59,
      "outputs": [
        {
          "output_type": "stream",
          "text": [
            "        Id  Column_1     Column_2  ...  Column_75  Column_76  Column_77\n",
            "0        1  77117.50  44514.90373  ...         22          2       2021\n",
            "1        2  77120.00  44516.34682  ...         22          2       2021\n",
            "2        3  77120.00  44516.34682  ...         22          2       2021\n",
            "3        4  77120.00  44516.34682  ...         22          2       2021\n",
            "4        5  77120.00  44516.34682  ...         22          2       2021\n",
            "...    ...       ...          ...  ...        ...        ...        ...\n",
            "1586  1587  77120.00  44516.34682  ...         22          2       2021\n",
            "1587  1588  77117.50  44514.90373  ...         22          2       2021\n",
            "1588  1589  77122.25  44517.64560  ...         22          2       2021\n",
            "1589  1590  77122.25  44517.64560  ...         22          2       2021\n",
            "1590  1591  77122.25  44517.64560  ...         22          2       2021\n",
            "\n",
            "[1591 rows x 78 columns]\n"
          ],
          "name": "stdout"
        }
      ]
    },
    {
      "cell_type": "code",
      "metadata": {
        "id": "WdYK9EQzBZSg"
      },
      "source": [
        "tX= td[['Column_12', 'Column_21', 'Column_24','Column_28', \n",
        "       'Column_36', 'Column_38', 'Column_51','Column_52', 'Column_54','Column_59', 'Column_60',\n",
        "       'Column_61','Column_62', 'Column_63', 'Column_64', 'Column_65','Column_67', 'Column_68']]"
      ],
      "execution_count": 70,
      "outputs": []
    },
    {
      "cell_type": "code",
      "metadata": {
        "id": "mBbiWYzsBl5t"
      },
      "source": [
        "select_x_test = selection.transform(tX)\n",
        "y_pred = selection_model.predict(select_x_test)"
      ],
      "execution_count": 81,
      "outputs": []
    },
    {
      "cell_type": "code",
      "metadata": {
        "id": "03EqYWrmBmn8"
      },
      "source": [
        "Id = td['Id']\n",
        "Category = y_pred\n",
        "res = pd.DataFrame({'Id':Id,'Category':Category})\n",
        "type (res)\n",
        "res.to_csv(\"predictions3.csv\",index=False)"
      ],
      "execution_count": 82,
      "outputs": []
    },
    {
      "cell_type": "code",
      "metadata": {
        "id": "5U170uKjBrUr"
      },
      "source": [
        ""
      ],
      "execution_count": null,
      "outputs": []
    }
  ]
}